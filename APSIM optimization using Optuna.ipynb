{
 "cells": [
  {
   "cell_type": "markdown",
   "id": "a065b8e1",
   "metadata": {},
   "source": [
    "This notebook requires the example file \"Maize.apsimx\" from the example folder in APSIM Next Generation. To preserve original trait values, the output is written to \"Maize_edited.apsimx\" and all out files are under this name (for example, \"Maize_edited.db\". Readme file contains Python version, APSIMX version, and other necessary software."
   ]
  },
  {
   "cell_type": "markdown",
   "id": "f9291a3d",
   "metadata": {},
   "source": [
    "# Importing necessary libraries"
   ]
  },
  {
   "cell_type": "code",
   "execution_count": 1,
   "id": "f44da67c",
   "metadata": {},
   "outputs": [],
   "source": [
    "import os\n",
    "import sys\n",
    "import fileinput\n",
    "import subprocess\n",
    "import re\n",
    "import optuna\n",
    "import matplotlib.pyplot as plt\n",
    "import json"
   ]
  },
  {
   "cell_type": "markdown",
   "id": "b50e49d7",
   "metadata": {},
   "source": [
    "# Defining the objective function"
   ]
  },
  {
   "cell_type": "markdown",
   "id": "8e4ac491",
   "metadata": {},
   "source": [
    "In this example, Optuna will try different combinations of CultivarName (categorical), Fertilizer amount (integer, kg/ha), and residue amount (integer, kg/ha). APSIM is then run in the shell using this edited file. The output .db file is queried with SQLite to extract the max value for the chosen variable (Maize.Grain.Wt in this case). This is returned as \"value\", a float variable. If the output variable isn't found, a value of 0 is returned as default."
   ]
  },
  {
   "cell_type": "code",
   "execution_count": 2,
   "id": "848b343e",
   "metadata": {},
   "outputs": [],
   "source": [
    "varieties = ['Hycorn_53','Pioneer_33M54','Pioneer_38H20','Pioneer_34K77','Pioneer_39V43','Atrium','Laila','GH_5019WX',\n",
    "             'Hycorn_40','GH_5009','Dekalb_XL82','malawi_local','mh19','mh17','mh16','mh12','sc623','sc625','sc601',\n",
    "             'CG4141','mh18','r215','Melkassa','sr52','sc501','r201','sc401','NSCM_41','Makueni','Katumani','Pioneer_3153',\n",
    "             'Pioneer_39G12','B_80','B_90','B_95','B_100','B_103','B_105','B_108','B_110','B_112','B_115','B_120','B_115',\n",
    "             'B_120','B_130','A_80','A_90','A_95','A_100','A_103','A_105','A_108','A_110','A_112','A_115','A_120','A_130',\n",
    "             'HY_110','LY_110','P1197']"
   ]
  },
  {
   "cell_type": "markdown",
   "id": "a4d49854",
   "metadata": {},
   "source": [
    "This defines the path to the output database, and the query that defines the output variable that Optuna uses to evaluate each trial."
   ]
  },
  {
   "cell_type": "code",
   "execution_count": 3,
   "id": "b5055d7a",
   "metadata": {},
   "outputs": [],
   "source": [
    "path_to_output_db = \"c:/Users/detemplj/Downloads/Maize_edited.db\"\n",
    "output_variable = \"SELECT AVG(\\\"Maize.Grain.Wt\\\") FROM Report;\""
   ]
  },
  {
   "cell_type": "markdown",
   "id": "75e68a6a",
   "metadata": {},
   "source": [
    "Objective function:"
   ]
  },
  {
   "cell_type": "code",
   "execution_count": 4,
   "id": "9aa645d1",
   "metadata": {},
   "outputs": [],
   "source": [
    "def objective(trial):\n",
    "    value = None  # Default value\n",
    "\n",
    "    #### INPUT VARIABLE(S) IS SPECIFIED HERE:\n",
    "    CultivarName = trial.suggest_categorical('CultivarName', varieties)\n",
    "    fertiliser = trial.suggest_int('init_fert', 0, 250)\n",
    "    residue = trial.suggest_int('residue', 250, 1000)\n",
    "    \n",
    "    # Changing file variables\n",
    "    # Read in the file\n",
    "    with open('Maize.apsimx', 'r') as file:\n",
    "        data = json.load(file)\n",
    "    # Replace the target strings\n",
    "    \n",
    "    data['Children'][0]['Children'][4]['Children'][7]['Parameters'][5]['Value'] = CultivarName\n",
    "    data['Children'][0]['Children'][4]['Children'][6]['Parameters'][0]['Value'] = fertiliser\n",
    "    data['Children'][0]['Children'][4]['Children'][3]['InitialResidueMass'] = residue\n",
    "    \n",
    "    # Write the file out again\n",
    "    with open(\"Maize_edited.apsimx\", 'w') as file:\n",
    "        json.dump(data, file)\n",
    "        \n",
    "      \n",
    "    \n",
    "    # Running APSIM in shell\n",
    "    list_files = subprocess.check_output([\"apsim\", \"run\", \"Maize_edited.apsimx\"], shell=True)\n",
    "    list_files = list_files.decode(\"utf-8\")\n",
    "    print(list_files)\n",
    "    \n",
    "    # Getting APSIM output\n",
    "    #### OUTPUT VARIABLE IS SPECIFIED HERE IN THE SQLITE QUERY:\n",
    "    output = subprocess.check_output([\"sqlite3\", path_to_output_db, \"-cmd\", output_variable], shell=True)\n",
    "    output = output.decode(\"utf-8\")\n",
    "\n",
    "    match = re.search(r'\\d+\\.\\d+', output)\n",
    "    if match:\n",
    "        value = match.group()\n",
    "        print(\"The value is:\", value)\n",
    "    else:\n",
    "        print(\"No value found.\")\n",
    "\n",
    "    #return float(value)\n",
    "\n",
    "    if value is not None:\n",
    "        return float(value)\n",
    "    else:\n",
    "        return float('0')"
   ]
  },
  {
   "cell_type": "markdown",
   "id": "b66646b2",
   "metadata": {},
   "source": [
    "# Running an example study"
   ]
  },
  {
   "cell_type": "code",
   "execution_count": 5,
   "id": "b7efb464",
   "metadata": {
    "scrolled": true
   },
   "outputs": [
    {
     "name": "stderr",
     "output_type": "stream",
     "text": [
      "[I 2023-06-19 16:37:33,207] A new study created in memory with name: no-name-5599a2e8-f7ba-4ef1-8bd7-b6c000288cf8\n",
      "[I 2023-06-19 16:37:36,181] Trial 0 finished with value: 569.716566773045 and parameters: {'CultivarName': 'Atrium', 'init_fert': 134, 'residue': 740}. Best is trial 0 with value: 569.716566773045.\n"
     ]
    },
    {
     "name": "stdout",
     "output_type": "stream",
     "text": [
      "\n",
      "The value is: 569.716566773045\n"
     ]
    },
    {
     "name": "stderr",
     "output_type": "stream",
     "text": [
      "[I 2023-06-19 16:37:39,147] Trial 1 finished with value: 632.886655994555 and parameters: {'CultivarName': 'A_110', 'init_fert': 137, 'residue': 911}. Best is trial 1 with value: 632.886655994555.\n"
     ]
    },
    {
     "name": "stdout",
     "output_type": "stream",
     "text": [
      "\n",
      "The value is: 632.886655994555\n"
     ]
    },
    {
     "name": "stderr",
     "output_type": "stream",
     "text": [
      "[I 2023-06-19 16:37:42,113] Trial 2 finished with value: 295.758243946052 and parameters: {'CultivarName': 'Atrium', 'init_fert': 19, 'residue': 326}. Best is trial 1 with value: 632.886655994555.\n"
     ]
    },
    {
     "name": "stdout",
     "output_type": "stream",
     "text": [
      "\n",
      "The value is: 295.758243946052\n"
     ]
    },
    {
     "name": "stderr",
     "output_type": "stream",
     "text": [
      "[I 2023-06-19 16:37:45,095] Trial 3 finished with value: 250.246768596392 and parameters: {'CultivarName': 'A_120', 'init_fert': 2, 'residue': 741}. Best is trial 1 with value: 632.886655994555.\n"
     ]
    },
    {
     "name": "stdout",
     "output_type": "stream",
     "text": [
      "\n",
      "The value is: 250.246768596392\n"
     ]
    },
    {
     "name": "stderr",
     "output_type": "stream",
     "text": [
      "[I 2023-06-19 16:37:48,062] Trial 4 finished with value: 666.669529464308 and parameters: {'CultivarName': 'B_105', 'init_fert': 184, 'residue': 849}. Best is trial 4 with value: 666.669529464308.\n"
     ]
    },
    {
     "name": "stdout",
     "output_type": "stream",
     "text": [
      "\n",
      "The value is: 666.669529464308\n"
     ]
    },
    {
     "name": "stderr",
     "output_type": "stream",
     "text": [
      "[I 2023-06-19 16:37:50,996] Trial 5 finished with value: 632.425434250996 and parameters: {'CultivarName': 'Makueni', 'init_fert': 106, 'residue': 476}. Best is trial 4 with value: 666.669529464308.\n"
     ]
    },
    {
     "name": "stdout",
     "output_type": "stream",
     "text": [
      "\n",
      "The value is: 632.425434250996\n"
     ]
    },
    {
     "name": "stderr",
     "output_type": "stream",
     "text": [
      "[I 2023-06-19 16:37:53,965] Trial 6 finished with value: 300.029196856049 and parameters: {'CultivarName': 'mh17', 'init_fert': 24, 'residue': 371}. Best is trial 4 with value: 666.669529464308.\n"
     ]
    },
    {
     "name": "stdout",
     "output_type": "stream",
     "text": [
      "\n",
      "The value is: 300.029196856049\n"
     ]
    },
    {
     "name": "stderr",
     "output_type": "stream",
     "text": [
      "[I 2023-06-19 16:37:56,960] Trial 7 finished with value: 544.406450570813 and parameters: {'CultivarName': 'A_112', 'init_fert': 70, 'residue': 918}. Best is trial 4 with value: 666.669529464308.\n"
     ]
    },
    {
     "name": "stdout",
     "output_type": "stream",
     "text": [
      "\n",
      "The value is: 544.406450570813\n"
     ]
    },
    {
     "name": "stderr",
     "output_type": "stream",
     "text": [
      "[I 2023-06-19 16:37:59,930] Trial 8 finished with value: 658.262451005786 and parameters: {'CultivarName': 'B_108', 'init_fert': 164, 'residue': 714}. Best is trial 4 with value: 666.669529464308.\n"
     ]
    },
    {
     "name": "stdout",
     "output_type": "stream",
     "text": [
      "\n",
      "The value is: 658.262451005786\n"
     ]
    },
    {
     "name": "stderr",
     "output_type": "stream",
     "text": [
      "[I 2023-06-19 16:38:02,911] Trial 9 finished with value: 278.17570603116 and parameters: {'CultivarName': 'mh17', 'init_fert': 19, 'residue': 320}. Best is trial 4 with value: 666.669529464308.\n"
     ]
    },
    {
     "name": "stdout",
     "output_type": "stream",
     "text": [
      "\n",
      "The value is: 278.17570603116\n"
     ]
    },
    {
     "name": "stderr",
     "output_type": "stream",
     "text": [
      "[I 2023-06-19 16:38:05,913] Trial 10 finished with value: 605.374752799779 and parameters: {'CultivarName': 'Katumani', 'init_fert': 245, 'residue': 979}. Best is trial 4 with value: 666.669529464308.\n"
     ]
    },
    {
     "name": "stdout",
     "output_type": "stream",
     "text": [
      "\n",
      "The value is: 605.374752799779\n"
     ]
    },
    {
     "name": "stderr",
     "output_type": "stream",
     "text": [
      "[I 2023-06-19 16:38:08,951] Trial 11 finished with value: 666.610750847736 and parameters: {'CultivarName': 'B_105', 'init_fert': 189, 'residue': 683}. Best is trial 4 with value: 666.669529464308.\n"
     ]
    },
    {
     "name": "stdout",
     "output_type": "stream",
     "text": [
      "\n",
      "The value is: 666.610750847736\n"
     ]
    },
    {
     "name": "stderr",
     "output_type": "stream",
     "text": [
      "[I 2023-06-19 16:38:11,971] Trial 12 finished with value: 610.328344813945 and parameters: {'CultivarName': 'sc401', 'init_fert': 201, 'residue': 580}. Best is trial 4 with value: 666.669529464308.\n"
     ]
    },
    {
     "name": "stdout",
     "output_type": "stream",
     "text": [
      "\n",
      "The value is: 610.328344813945\n"
     ]
    },
    {
     "name": "stderr",
     "output_type": "stream",
     "text": [
      "[I 2023-06-19 16:38:14,989] Trial 13 finished with value: 666.604048657399 and parameters: {'CultivarName': 'B_105', 'init_fert': 195, 'residue': 831}. Best is trial 4 with value: 666.669529464308.\n"
     ]
    },
    {
     "name": "stdout",
     "output_type": "stream",
     "text": [
      "\n",
      "The value is: 666.604048657399\n"
     ]
    },
    {
     "name": "stderr",
     "output_type": "stream",
     "text": [
      "[I 2023-06-19 16:38:17,994] Trial 14 finished with value: 666.6830985113 and parameters: {'CultivarName': 'B_105', 'init_fert': 242, 'residue': 610}. Best is trial 14 with value: 666.6830985113.\n"
     ]
    },
    {
     "name": "stdout",
     "output_type": "stream",
     "text": [
      "\n",
      "The value is: 666.6830985113\n"
     ]
    },
    {
     "name": "stderr",
     "output_type": "stream",
     "text": [
      "[I 2023-06-19 16:38:21,002] Trial 15 finished with value: 666.91403506292 and parameters: {'CultivarName': 'B_105', 'init_fert': 249, 'residue': 561}. Best is trial 15 with value: 666.91403506292.\n"
     ]
    },
    {
     "name": "stdout",
     "output_type": "stream",
     "text": [
      "\n",
      "The value is: 666.91403506292\n"
     ]
    },
    {
     "name": "stderr",
     "output_type": "stream",
     "text": [
      "[I 2023-06-19 16:38:23,960] Trial 16 finished with value: 558.141922668948 and parameters: {'CultivarName': 'A_80', 'init_fert': 242, 'residue': 556}. Best is trial 15 with value: 666.91403506292.\n"
     ]
    },
    {
     "name": "stdout",
     "output_type": "stream",
     "text": [
      "\n",
      "The value is: 558.141922668948\n"
     ]
    },
    {
     "name": "stderr",
     "output_type": "stream",
     "text": [
      "[I 2023-06-19 16:38:26,981] Trial 17 finished with value: 814.333167758801 and parameters: {'CultivarName': 'HY_110', 'init_fert': 220, 'residue': 446}. Best is trial 17 with value: 814.333167758801.\n"
     ]
    },
    {
     "name": "stdout",
     "output_type": "stream",
     "text": [
      "\n",
      "The value is: 814.333167758801\n"
     ]
    },
    {
     "name": "stderr",
     "output_type": "stream",
     "text": [
      "[I 2023-06-19 16:38:30,032] Trial 18 finished with value: 814.400619574052 and parameters: {'CultivarName': 'HY_110', 'init_fert': 218, 'residue': 451}. Best is trial 18 with value: 814.400619574052.\n"
     ]
    },
    {
     "name": "stdout",
     "output_type": "stream",
     "text": [
      "\n",
      "The value is: 814.400619574052\n"
     ]
    },
    {
     "name": "stderr",
     "output_type": "stream",
     "text": [
      "[I 2023-06-19 16:38:33,045] Trial 19 finished with value: 814.430306477621 and parameters: {'CultivarName': 'HY_110', 'init_fert': 216, 'residue': 431}. Best is trial 19 with value: 814.430306477621.\n"
     ]
    },
    {
     "name": "stdout",
     "output_type": "stream",
     "text": [
      "\n",
      "The value is: 814.430306477621\n"
     ]
    },
    {
     "name": "stderr",
     "output_type": "stream",
     "text": [
      "[I 2023-06-19 16:38:36,095] Trial 20 finished with value: 711.793481909695 and parameters: {'CultivarName': 'HY_110', 'init_fert': 99, 'residue': 253}. Best is trial 19 with value: 814.430306477621.\n"
     ]
    },
    {
     "name": "stdout",
     "output_type": "stream",
     "text": [
      "\n",
      "The value is: 711.793481909695\n"
     ]
    },
    {
     "name": "stderr",
     "output_type": "stream",
     "text": [
      "[I 2023-06-19 16:38:39,093] Trial 21 finished with value: 814.542021499691 and parameters: {'CultivarName': 'HY_110', 'init_fert': 211, 'residue': 461}. Best is trial 21 with value: 814.542021499691.\n"
     ]
    },
    {
     "name": "stdout",
     "output_type": "stream",
     "text": [
      "\n",
      "The value is: 814.542021499691\n"
     ]
    },
    {
     "name": "stderr",
     "output_type": "stream",
     "text": [
      "[I 2023-06-19 16:38:42,100] Trial 22 finished with value: 819.134802779112 and parameters: {'CultivarName': 'HY_110', 'init_fert': 163, 'residue': 464}. Best is trial 22 with value: 819.134802779112.\n"
     ]
    },
    {
     "name": "stdout",
     "output_type": "stream",
     "text": [
      "\n",
      "The value is: 819.134802779112\n"
     ]
    },
    {
     "name": "stderr",
     "output_type": "stream",
     "text": [
      "[I 2023-06-19 16:38:45,156] Trial 23 finished with value: 559.86177212545 and parameters: {'CultivarName': 'Dekalb_XL82', 'init_fert': 169, 'residue': 511}. Best is trial 22 with value: 819.134802779112.\n"
     ]
    },
    {
     "name": "stdout",
     "output_type": "stream",
     "text": [
      "\n",
      "The value is: 559.86177212545\n"
     ]
    },
    {
     "name": "stderr",
     "output_type": "stream",
     "text": [
      "[I 2023-06-19 16:38:48,150] Trial 24 finished with value: 663.532569132459 and parameters: {'CultivarName': 'B_100', 'init_fert': 159, 'residue': 397}. Best is trial 22 with value: 819.134802779112.\n"
     ]
    },
    {
     "name": "stdout",
     "output_type": "stream",
     "text": [
      "\n",
      "The value is: 663.532569132459\n"
     ]
    },
    {
     "name": "stderr",
     "output_type": "stream",
     "text": [
      "[I 2023-06-19 16:38:51,159] Trial 25 finished with value: 813.707667078371 and parameters: {'CultivarName': 'HY_110', 'init_fert': 223, 'residue': 396}. Best is trial 22 with value: 819.134802779112.\n"
     ]
    },
    {
     "name": "stdout",
     "output_type": "stream",
     "text": [
      "\n",
      "The value is: 813.707667078371\n"
     ]
    },
    {
     "name": "stderr",
     "output_type": "stream",
     "text": [
      "[I 2023-06-19 16:38:54,136] Trial 26 finished with value: 554.592143285758 and parameters: {'CultivarName': 'B_80', 'init_fert': 210, 'residue': 497}. Best is trial 22 with value: 819.134802779112.\n"
     ]
    },
    {
     "name": "stdout",
     "output_type": "stream",
     "text": [
      "\n",
      "The value is: 554.592143285758\n"
     ]
    },
    {
     "name": "stderr",
     "output_type": "stream",
     "text": [
      "[I 2023-06-19 16:38:57,148] Trial 27 finished with value: 598.122530540022 and parameters: {'CultivarName': 'Pioneer_39G12', 'init_fert': 148, 'residue': 657}. Best is trial 22 with value: 819.134802779112.\n"
     ]
    },
    {
     "name": "stdout",
     "output_type": "stream",
     "text": [
      "\n",
      "The value is: 598.122530540022\n"
     ]
    },
    {
     "name": "stderr",
     "output_type": "stream",
     "text": [
      "[I 2023-06-19 16:39:00,156] Trial 28 finished with value: 633.473308071604 and parameters: {'CultivarName': 'r215', 'init_fert': 172, 'residue': 292}. Best is trial 22 with value: 819.134802779112.\n"
     ]
    },
    {
     "name": "stdout",
     "output_type": "stream",
     "text": [
      "\n",
      "The value is: 633.473308071604\n"
     ]
    },
    {
     "name": "stderr",
     "output_type": "stream",
     "text": [
      "[I 2023-06-19 16:39:03,176] Trial 29 finished with value: 666.3366128376 and parameters: {'CultivarName': 'sc623', 'init_fert': 119, 'residue': 421}. Best is trial 22 with value: 819.134802779112.\n"
     ]
    },
    {
     "name": "stdout",
     "output_type": "stream",
     "text": [
      "\n",
      "The value is: 666.3366128376\n"
     ]
    },
    {
     "name": "stderr",
     "output_type": "stream",
     "text": [
      "[I 2023-06-19 16:39:06,186] Trial 30 finished with value: 608.888939323403 and parameters: {'CultivarName': 'r201', 'init_fert': 229, 'residue': 352}. Best is trial 22 with value: 819.134802779112.\n"
     ]
    },
    {
     "name": "stdout",
     "output_type": "stream",
     "text": [
      "\n",
      "The value is: 608.888939323403\n"
     ]
    },
    {
     "name": "stderr",
     "output_type": "stream",
     "text": [
      "[I 2023-06-19 16:39:09,184] Trial 31 finished with value: 814.595803420466 and parameters: {'CultivarName': 'HY_110', 'init_fert': 209, 'residue': 516}. Best is trial 22 with value: 819.134802779112.\n"
     ]
    },
    {
     "name": "stdout",
     "output_type": "stream",
     "text": [
      "\n",
      "The value is: 814.595803420466\n"
     ]
    },
    {
     "name": "stderr",
     "output_type": "stream",
     "text": [
      "[I 2023-06-19 16:39:12,136] Trial 32 finished with value: 674.254866807905 and parameters: {'CultivarName': 'A_100', 'init_fert': 199, 'residue': 526}. Best is trial 22 with value: 819.134802779112.\n"
     ]
    },
    {
     "name": "stdout",
     "output_type": "stream",
     "text": [
      "\n",
      "The value is: 674.254866807905\n"
     ]
    },
    {
     "name": "stderr",
     "output_type": "stream",
     "text": [
      "[I 2023-06-19 16:39:15,140] Trial 33 finished with value: 617.077723434375 and parameters: {'CultivarName': 'B_90', 'init_fert': 142, 'residue': 462}. Best is trial 22 with value: 819.134802779112.\n"
     ]
    },
    {
     "name": "stdout",
     "output_type": "stream",
     "text": [
      "\n",
      "The value is: 617.077723434375\n"
     ]
    },
    {
     "name": "stderr",
     "output_type": "stream",
     "text": [
      "[I 2023-06-19 16:39:18,155] Trial 34 finished with value: 657.927644621837 and parameters: {'CultivarName': 'sc601', 'init_fert': 181, 'residue': 527}. Best is trial 22 with value: 819.134802779112.\n"
     ]
    },
    {
     "name": "stdout",
     "output_type": "stream",
     "text": [
      "\n",
      "The value is: 657.927644621837\n"
     ]
    },
    {
     "name": "stderr",
     "output_type": "stream",
     "text": [
      "[I 2023-06-19 16:39:21,085] Trial 35 finished with value: 676.131963207824 and parameters: {'CultivarName': 'Pioneer_3153', 'init_fert': 209, 'residue': 617}. Best is trial 22 with value: 819.134802779112.\n"
     ]
    },
    {
     "name": "stdout",
     "output_type": "stream",
     "text": [
      "\n",
      "The value is: 676.131963207824\n"
     ]
    },
    {
     "name": "stderr",
     "output_type": "stream",
     "text": [
      "[I 2023-06-19 16:39:24,114] Trial 36 finished with value: 424.511177504385 and parameters: {'CultivarName': 'LY_110', 'init_fert': 155, 'residue': 406}. Best is trial 22 with value: 819.134802779112.\n"
     ]
    },
    {
     "name": "stdout",
     "output_type": "stream",
     "text": [
      "\n",
      "The value is: 424.511177504385\n"
     ]
    },
    {
     "name": "stderr",
     "output_type": "stream",
     "text": [
      "[I 2023-06-19 16:39:27,159] Trial 37 finished with value: 673.22837410866 and parameters: {'CultivarName': 'A_103', 'init_fert': 231, 'residue': 354}. Best is trial 22 with value: 819.134802779112.\n"
     ]
    },
    {
     "name": "stdout",
     "output_type": "stream",
     "text": [
      "\n",
      "The value is: 673.22837410866\n"
     ]
    },
    {
     "name": "stderr",
     "output_type": "stream",
     "text": [
      "[I 2023-06-19 16:39:30,188] Trial 38 finished with value: 679.577433403939 and parameters: {'CultivarName': 'mh12', 'init_fert': 126, 'residue': 483}. Best is trial 22 with value: 819.134802779112.\n"
     ]
    },
    {
     "name": "stdout",
     "output_type": "stream",
     "text": [
      "\n",
      "The value is: 679.577433403939\n"
     ]
    },
    {
     "name": "stderr",
     "output_type": "stream",
     "text": [
      "[I 2023-06-19 16:39:33,173] Trial 39 finished with value: 482.450678744854 and parameters: {'CultivarName': 'Melkassa', 'init_fert': 180, 'residue': 431}. Best is trial 22 with value: 819.134802779112.\n"
     ]
    },
    {
     "name": "stdout",
     "output_type": "stream",
     "text": [
      "\n",
      "The value is: 482.450678744854\n"
     ]
    },
    {
     "name": "stderr",
     "output_type": "stream",
     "text": [
      "[I 2023-06-19 16:39:36,176] Trial 40 finished with value: 548.147260118981 and parameters: {'CultivarName': 'Pioneer_33M54', 'init_fert': 71, 'residue': 583}. Best is trial 22 with value: 819.134802779112.\n"
     ]
    },
    {
     "name": "stdout",
     "output_type": "stream",
     "text": [
      "\n",
      "The value is: 548.147260118981\n"
     ]
    },
    {
     "name": "stderr",
     "output_type": "stream",
     "text": [
      "[I 2023-06-19 16:39:39,198] Trial 41 finished with value: 814.563644763187 and parameters: {'CultivarName': 'HY_110', 'init_fert': 210, 'residue': 456}. Best is trial 22 with value: 819.134802779112.\n"
     ]
    },
    {
     "name": "stdout",
     "output_type": "stream",
     "text": [
      "\n",
      "The value is: 814.563644763187\n"
     ]
    },
    {
     "name": "stderr",
     "output_type": "stream",
     "text": [
      "[I 2023-06-19 16:39:42,191] Trial 42 finished with value: 815.360514708876 and parameters: {'CultivarName': 'HY_110', 'init_fert': 199, 'residue': 485}. Best is trial 22 with value: 819.134802779112.\n"
     ]
    },
    {
     "name": "stdout",
     "output_type": "stream",
     "text": [
      "\n",
      "The value is: 815.360514708876\n"
     ]
    },
    {
     "name": "stderr",
     "output_type": "stream",
     "text": [
      "[I 2023-06-19 16:39:45,225] Trial 43 finished with value: 636.437649315926 and parameters: {'CultivarName': 'P1197', 'init_fert': 203, 'residue': 535}. Best is trial 22 with value: 819.134802779112.\n"
     ]
    },
    {
     "name": "stdout",
     "output_type": "stream",
     "text": [
      "\n",
      "The value is: 636.437649315926\n"
     ]
    },
    {
     "name": "stderr",
     "output_type": "stream",
     "text": [
      "[I 2023-06-19 16:39:48,226] Trial 44 finished with value: 610.260795548977 and parameters: {'CultivarName': 'B_120', 'init_fert': 187, 'residue': 481}. Best is trial 22 with value: 819.134802779112.\n"
     ]
    },
    {
     "name": "stdout",
     "output_type": "stream",
     "text": [
      "\n",
      "The value is: 610.260795548977\n"
     ]
    },
    {
     "name": "stderr",
     "output_type": "stream",
     "text": [
      "[I 2023-06-19 16:39:51,243] Trial 45 finished with value: 564.967351797236 and parameters: {'CultivarName': 'Hycorn_40', 'init_fert': 230, 'residue': 374}. Best is trial 22 with value: 819.134802779112.\n"
     ]
    },
    {
     "name": "stdout",
     "output_type": "stream",
     "text": [
      "\n",
      "The value is: 564.967351797236\n"
     ]
    },
    {
     "name": "stderr",
     "output_type": "stream",
     "text": [
      "[I 2023-06-19 16:39:54,230] Trial 46 finished with value: 641.845679847029 and parameters: {'CultivarName': 'B_115', 'init_fert': 190, 'residue': 320}. Best is trial 22 with value: 819.134802779112.\n"
     ]
    },
    {
     "name": "stdout",
     "output_type": "stream",
     "text": [
      "\n",
      "The value is: 641.845679847029\n"
     ]
    },
    {
     "name": "stderr",
     "output_type": "stream",
     "text": [
      "[I 2023-06-19 16:39:57,211] Trial 47 finished with value: 669.463073853227 and parameters: {'CultivarName': 'B_103', 'init_fert': 173, 'residue': 652}. Best is trial 22 with value: 819.134802779112.\n"
     ]
    },
    {
     "name": "stdout",
     "output_type": "stream",
     "text": [
      "\n",
      "The value is: 669.463073853227\n"
     ]
    },
    {
     "name": "stderr",
     "output_type": "stream",
     "text": [
      "[I 2023-06-19 16:40:00,235] Trial 48 finished with value: 670.053720837539 and parameters: {'CultivarName': 'mh16', 'init_fert': 208, 'residue': 772}. Best is trial 22 with value: 819.134802779112.\n"
     ]
    },
    {
     "name": "stdout",
     "output_type": "stream",
     "text": [
      "\n",
      "The value is: 670.053720837539\n"
     ]
    },
    {
     "name": "stderr",
     "output_type": "stream",
     "text": [
      "[I 2023-06-19 16:40:03,273] Trial 49 finished with value: 574.050537297756 and parameters: {'CultivarName': 'B_130', 'init_fert': 196, 'residue': 588}. Best is trial 22 with value: 819.134802779112.\n"
     ]
    },
    {
     "name": "stdout",
     "output_type": "stream",
     "text": [
      "\n",
      "The value is: 574.050537297756\n"
     ]
    },
    {
     "name": "stderr",
     "output_type": "stream",
     "text": [
      "[I 2023-06-19 16:40:06,290] Trial 50 finished with value: 545.35417197662 and parameters: {'CultivarName': 'GH_5019WX', 'init_fert': 179, 'residue': 545}. Best is trial 22 with value: 819.134802779112.\n"
     ]
    },
    {
     "name": "stdout",
     "output_type": "stream",
     "text": [
      "\n",
      "The value is: 545.35417197662\n"
     ]
    },
    {
     "name": "stderr",
     "output_type": "stream",
     "text": [
      "[I 2023-06-19 16:40:09,363] Trial 51 finished with value: 814.521191797075 and parameters: {'CultivarName': 'HY_110', 'init_fert': 212, 'residue': 470}. Best is trial 22 with value: 819.134802779112.\n"
     ]
    },
    {
     "name": "stdout",
     "output_type": "stream",
     "text": [
      "\n",
      "The value is: 814.521191797075\n"
     ]
    },
    {
     "name": "stderr",
     "output_type": "stream",
     "text": [
      "[I 2023-06-19 16:40:12,392] Trial 52 finished with value: 813.481769732195 and parameters: {'CultivarName': 'HY_110', 'init_fert': 238, 'residue': 467}. Best is trial 22 with value: 819.134802779112.\n"
     ]
    },
    {
     "name": "stdout",
     "output_type": "stream",
     "text": [
      "\n",
      "The value is: 813.481769732195\n"
     ]
    },
    {
     "name": "stderr",
     "output_type": "stream",
     "text": [
      "[I 2023-06-19 16:40:15,407] Trial 53 finished with value: 655.16118420185 and parameters: {'CultivarName': 'mh18', 'init_fert': 210, 'residue': 486}. Best is trial 22 with value: 819.134802779112.\n"
     ]
    },
    {
     "name": "stdout",
     "output_type": "stream",
     "text": [
      "\n",
      "The value is: 655.16118420185\n"
     ]
    },
    {
     "name": "stderr",
     "output_type": "stream",
     "text": [
      "[I 2023-06-19 16:40:18,433] Trial 54 finished with value: 538.538561531622 and parameters: {'CultivarName': 'GH_5009', 'init_fert': 221, 'residue': 506}. Best is trial 22 with value: 819.134802779112.\n"
     ]
    },
    {
     "name": "stdout",
     "output_type": "stream",
     "text": [
      "\n",
      "The value is: 538.538561531622\n"
     ]
    },
    {
     "name": "stderr",
     "output_type": "stream",
     "text": [
      "[I 2023-06-19 16:40:21,435] Trial 55 finished with value: 630.628439928781 and parameters: {'CultivarName': 'sc501', 'init_fert': 195, 'residue': 451}. Best is trial 22 with value: 819.134802779112.\n"
     ]
    },
    {
     "name": "stdout",
     "output_type": "stream",
     "text": [
      "\n",
      "The value is: 630.628439928781\n"
     ]
    },
    {
     "name": "stderr",
     "output_type": "stream",
     "text": [
      "[I 2023-06-19 16:40:24,483] Trial 56 finished with value: 638.41647611527 and parameters: {'CultivarName': 'Hycorn_53', 'init_fert': 232, 'residue': 380}. Best is trial 22 with value: 819.134802779112.\n"
     ]
    },
    {
     "name": "stdout",
     "output_type": "stream",
     "text": [
      "\n",
      "The value is: 638.41647611527\n"
     ]
    },
    {
     "name": "stderr",
     "output_type": "stream",
     "text": [
      "[I 2023-06-19 16:40:27,518] Trial 57 finished with value: 668.566110962684 and parameters: {'CultivarName': 'A_105', 'init_fert': 164, 'residue': 420}. Best is trial 22 with value: 819.134802779112.\n"
     ]
    },
    {
     "name": "stdout",
     "output_type": "stream",
     "text": [
      "\n",
      "The value is: 668.566110962684\n"
     ]
    },
    {
     "name": "stderr",
     "output_type": "stream",
     "text": [
      "[I 2023-06-19 16:40:30,572] Trial 58 finished with value: 615.656723379763 and parameters: {'CultivarName': 'CG4141', 'init_fert': 215, 'residue': 508}. Best is trial 22 with value: 819.134802779112.\n"
     ]
    },
    {
     "name": "stdout",
     "output_type": "stream",
     "text": [
      "\n",
      "The value is: 615.656723379763\n"
     ]
    },
    {
     "name": "stderr",
     "output_type": "stream",
     "text": [
      "[I 2023-06-19 16:40:33,582] Trial 59 finished with value: 574.873686290499 and parameters: {'CultivarName': 'Pioneer_39V43', 'init_fert': 248, 'residue': 561}. Best is trial 22 with value: 819.134802779112.\n"
     ]
    },
    {
     "name": "stdout",
     "output_type": "stream",
     "text": [
      "\n",
      "The value is: 574.873686290499\n"
     ]
    },
    {
     "name": "stderr",
     "output_type": "stream",
     "text": [
      "[I 2023-06-19 16:40:36,590] Trial 60 finished with value: 243.319131662596 and parameters: {'CultivarName': 'malawi_local', 'init_fert': 32, 'residue': 345}. Best is trial 22 with value: 819.134802779112.\n"
     ]
    },
    {
     "name": "stdout",
     "output_type": "stream",
     "text": [
      "\n",
      "The value is: 243.319131662596\n"
     ]
    },
    {
     "name": "stderr",
     "output_type": "stream",
     "text": [
      "[I 2023-06-19 16:40:39,612] Trial 61 finished with value: 814.396530875291 and parameters: {'CultivarName': 'HY_110', 'init_fert': 218, 'residue': 430}. Best is trial 22 with value: 819.134802779112.\n"
     ]
    },
    {
     "name": "stdout",
     "output_type": "stream",
     "text": [
      "\n",
      "The value is: 814.396530875291\n"
     ]
    },
    {
     "name": "stderr",
     "output_type": "stream",
     "text": [
      "[I 2023-06-19 16:40:42,662] Trial 62 finished with value: 814.683377569304 and parameters: {'CultivarName': 'HY_110', 'init_fert': 205, 'residue': 449}. Best is trial 22 with value: 819.134802779112.\n"
     ]
    },
    {
     "name": "stdout",
     "output_type": "stream",
     "text": [
      "\n",
      "The value is: 814.683377569304\n"
     ]
    },
    {
     "name": "stderr",
     "output_type": "stream",
     "text": [
      "[I 2023-06-19 16:40:45,681] Trial 63 finished with value: 610.66565309094 and parameters: {'CultivarName': 'NSCM_41', 'init_fert': 190, 'residue': 458}. Best is trial 22 with value: 819.134802779112.\n"
     ]
    },
    {
     "name": "stdout",
     "output_type": "stream",
     "text": [
      "\n",
      "The value is: 610.66565309094\n"
     ]
    },
    {
     "name": "stderr",
     "output_type": "stream",
     "text": [
      "[I 2023-06-19 16:40:48,694] Trial 64 finished with value: 651.912024663701 and parameters: {'CultivarName': 'B_110', 'init_fert': 202, 'residue': 511}. Best is trial 22 with value: 819.134802779112.\n"
     ]
    },
    {
     "name": "stdout",
     "output_type": "stream",
     "text": [
      "\n",
      "The value is: 651.912024663701\n"
     ]
    },
    {
     "name": "stderr",
     "output_type": "stream",
     "text": [
      "[I 2023-06-19 16:40:51,696] Trial 65 finished with value: 813.660655826958 and parameters: {'CultivarName': 'HY_110', 'init_fert': 226, 'residue': 401}. Best is trial 22 with value: 819.134802779112.\n"
     ]
    },
    {
     "name": "stdout",
     "output_type": "stream",
     "text": [
      "\n",
      "The value is: 813.660655826958\n"
     ]
    },
    {
     "name": "stderr",
     "output_type": "stream",
     "text": [
      "[I 2023-06-19 16:40:54,699] Trial 66 finished with value: 644.201069857196 and parameters: {'CultivarName': 'B_95', 'init_fert': 240, 'residue': 445}. Best is trial 22 with value: 819.134802779112.\n"
     ]
    },
    {
     "name": "stdout",
     "output_type": "stream",
     "text": [
      "\n",
      "The value is: 644.201069857196\n"
     ]
    },
    {
     "name": "stderr",
     "output_type": "stream",
     "text": [
      "[I 2023-06-19 16:40:57,715] Trial 67 finished with value: 628.693571404497 and parameters: {'CultivarName': 'A_90', 'init_fert': 207, 'residue': 555}. Best is trial 22 with value: 819.134802779112.\n"
     ]
    },
    {
     "name": "stdout",
     "output_type": "stream",
     "text": [
      "\n",
      "The value is: 628.693571404497\n"
     ]
    },
    {
     "name": "stderr",
     "output_type": "stream",
     "text": [
      "[I 2023-06-19 16:41:00,725] Trial 68 finished with value: 663.130286146786 and parameters: {'CultivarName': 'Pioneer_34K77', 'init_fert': 152, 'residue': 477}. Best is trial 22 with value: 819.134802779112.\n"
     ]
    },
    {
     "name": "stdout",
     "output_type": "stream",
     "text": [
      "\n",
      "The value is: 663.130286146786\n"
     ]
    },
    {
     "name": "stderr",
     "output_type": "stream",
     "text": [
      "[I 2023-06-19 16:41:03,758] Trial 69 finished with value: 634.186452282087 and parameters: {'CultivarName': 'sr52', 'init_fert': 165, 'residue': 294}. Best is trial 22 with value: 819.134802779112.\n"
     ]
    },
    {
     "name": "stdout",
     "output_type": "stream",
     "text": [
      "\n",
      "The value is: 634.186452282087\n"
     ]
    },
    {
     "name": "stderr",
     "output_type": "stream",
     "text": [
      "[I 2023-06-19 16:41:06,751] Trial 70 finished with value: 653.283769807524 and parameters: {'CultivarName': 'A_95', 'init_fert': 175, 'residue': 985}. Best is trial 22 with value: 819.134802779112.\n"
     ]
    },
    {
     "name": "stdout",
     "output_type": "stream",
     "text": [
      "\n",
      "The value is: 653.283769807524\n"
     ]
    },
    {
     "name": "stderr",
     "output_type": "stream",
     "text": [
      "[I 2023-06-19 16:41:09,744] Trial 71 finished with value: 814.47252941289 and parameters: {'CultivarName': 'HY_110', 'init_fert': 214, 'residue': 435}. Best is trial 22 with value: 819.134802779112.\n"
     ]
    },
    {
     "name": "stdout",
     "output_type": "stream",
     "text": [
      "\n",
      "The value is: 814.47252941289\n"
     ]
    },
    {
     "name": "stderr",
     "output_type": "stream",
     "text": [
      "[I 2023-06-19 16:41:12,750] Trial 72 finished with value: 814.46961759229 and parameters: {'CultivarName': 'HY_110', 'init_fert': 214, 'residue': 414}. Best is trial 22 with value: 819.134802779112.\n"
     ]
    },
    {
     "name": "stdout",
     "output_type": "stream",
     "text": [
      "\n",
      "The value is: 814.46961759229\n"
     ]
    },
    {
     "name": "stderr",
     "output_type": "stream",
     "text": [
      "[I 2023-06-19 16:41:15,758] Trial 73 finished with value: 659.687309468077 and parameters: {'CultivarName': 'Laila', 'init_fert': 197, 'residue': 438}. Best is trial 22 with value: 819.134802779112.\n"
     ]
    },
    {
     "name": "stdout",
     "output_type": "stream",
     "text": [
      "\n",
      "The value is: 659.687309468077\n"
     ]
    },
    {
     "name": "stderr",
     "output_type": "stream",
     "text": [
      "[I 2023-06-19 16:41:18,763] Trial 74 finished with value: 609.424272736905 and parameters: {'CultivarName': 'B_120', 'init_fert': 235, 'residue': 387}. Best is trial 22 with value: 819.134802779112.\n"
     ]
    },
    {
     "name": "stdout",
     "output_type": "stream",
     "text": [
      "\n",
      "The value is: 609.424272736905\n"
     ]
    },
    {
     "name": "stderr",
     "output_type": "stream",
     "text": [
      "[I 2023-06-19 16:41:21,764] Trial 75 finished with value: 639.802501099758 and parameters: {'CultivarName': 'A_108', 'init_fert': 224, 'residue': 495}. Best is trial 22 with value: 819.134802779112.\n"
     ]
    },
    {
     "name": "stdout",
     "output_type": "stream",
     "text": [
      "\n",
      "The value is: 639.802501099758\n"
     ]
    },
    {
     "name": "stderr",
     "output_type": "stream",
     "text": [
      "[I 2023-06-19 16:41:24,807] Trial 76 finished with value: 609.737593281403 and parameters: {'CultivarName': 'B_120', 'init_fert': 203, 'residue': 468}. Best is trial 22 with value: 819.134802779112.\n"
     ]
    },
    {
     "name": "stdout",
     "output_type": "stream",
     "text": [
      "\n",
      "The value is: 609.737593281403\n"
     ]
    },
    {
     "name": "stderr",
     "output_type": "stream",
     "text": [
      "[I 2023-06-19 16:41:27,869] Trial 77 finished with value: 602.067745459721 and parameters: {'CultivarName': 'A_115', 'init_fert': 185, 'residue': 527}. Best is trial 22 with value: 819.134802779112.\n"
     ]
    },
    {
     "name": "stdout",
     "output_type": "stream",
     "text": [
      "\n",
      "The value is: 602.067745459721\n"
     ]
    },
    {
     "name": "stderr",
     "output_type": "stream",
     "text": [
      "[I 2023-06-19 16:41:30,903] Trial 78 finished with value: 683.169251425493 and parameters: {'CultivarName': 'Pioneer_38H20', 'init_fert': 217, 'residue': 362}. Best is trial 22 with value: 819.134802779112.\n"
     ]
    },
    {
     "name": "stdout",
     "output_type": "stream",
     "text": [
      "\n",
      "The value is: 683.169251425493\n"
     ]
    },
    {
     "name": "stderr",
     "output_type": "stream",
     "text": [
      "[I 2023-06-19 16:41:33,974] Trial 79 finished with value: 727.906818111816 and parameters: {'CultivarName': 'HY_110', 'init_fert': 102, 'residue': 901}. Best is trial 22 with value: 819.134802779112.\n"
     ]
    },
    {
     "name": "stdout",
     "output_type": "stream",
     "text": [
      "\n",
      "The value is: 727.906818111816\n"
     ]
    },
    {
     "name": "stderr",
     "output_type": "stream",
     "text": [
      "[I 2023-06-19 16:41:37,018] Trial 80 finished with value: 643.527768333047 and parameters: {'CultivarName': 'B_115', 'init_fert': 134, 'residue': 593}. Best is trial 22 with value: 819.134802779112.\n"
     ]
    },
    {
     "name": "stdout",
     "output_type": "stream",
     "text": [
      "\n",
      "The value is: 643.527768333047\n"
     ]
    },
    {
     "name": "stderr",
     "output_type": "stream",
     "text": [
      "[I 2023-06-19 16:41:40,099] Trial 81 finished with value: 814.449115027926 and parameters: {'CultivarName': 'HY_110', 'init_fert': 215, 'residue': 415}. Best is trial 22 with value: 819.134802779112.\n"
     ]
    },
    {
     "name": "stdout",
     "output_type": "stream",
     "text": [
      "\n",
      "The value is: 814.449115027926\n"
     ]
    },
    {
     "name": "stderr",
     "output_type": "stream",
     "text": [
      "[I 2023-06-19 16:41:43,123] Trial 82 finished with value: 641.793803798189 and parameters: {'CultivarName': 'B_115', 'init_fert': 192, 'residue': 405}. Best is trial 22 with value: 819.134802779112.\n"
     ]
    },
    {
     "name": "stdout",
     "output_type": "stream",
     "text": [
      "\n",
      "The value is: 641.793803798189\n"
     ]
    },
    {
     "name": "stderr",
     "output_type": "stream",
     "text": [
      "[I 2023-06-19 16:41:46,297] Trial 83 finished with value: 609.532822803345 and parameters: {'CultivarName': 'B_120', 'init_fert': 209, 'residue': 443}. Best is trial 22 with value: 819.134802779112.\n"
     ]
    },
    {
     "name": "stdout",
     "output_type": "stream",
     "text": [
      "\n",
      "The value is: 609.532822803345\n"
     ]
    },
    {
     "name": "stderr",
     "output_type": "stream",
     "text": [
      "[I 2023-06-19 16:41:49,426] Trial 84 finished with value: 604.394974317121 and parameters: {'CultivarName': 'A_130', 'init_fert': 224, 'residue': 470}. Best is trial 22 with value: 819.134802779112.\n"
     ]
    },
    {
     "name": "stdout",
     "output_type": "stream",
     "text": [
      "\n",
      "The value is: 604.394974317121\n"
     ]
    },
    {
     "name": "stderr",
     "output_type": "stream",
     "text": [
      "[I 2023-06-19 16:41:52,620] Trial 85 finished with value: 670.102889415594 and parameters: {'CultivarName': 'mh19', 'init_fert': 203, 'residue': 495}. Best is trial 22 with value: 819.134802779112.\n"
     ]
    },
    {
     "name": "stdout",
     "output_type": "stream",
     "text": [
      "\n",
      "The value is: 670.102889415594\n"
     ]
    },
    {
     "name": "stderr",
     "output_type": "stream",
     "text": [
      "[I 2023-06-19 16:41:55,751] Trial 86 finished with value: 641.332529222311 and parameters: {'CultivarName': 'B_115', 'init_fert': 212, 'residue': 519}. Best is trial 22 with value: 819.134802779112.\n"
     ]
    },
    {
     "name": "stdout",
     "output_type": "stream",
     "text": [
      "\n",
      "The value is: 641.332529222311\n"
     ]
    },
    {
     "name": "stderr",
     "output_type": "stream",
     "text": [
      "[I 2023-06-19 16:41:58,878] Trial 87 finished with value: 610.390069994475 and parameters: {'CultivarName': 'B_120', 'init_fert': 182, 'residue': 329}. Best is trial 22 with value: 819.134802779112.\n"
     ]
    },
    {
     "name": "stdout",
     "output_type": "stream",
     "text": [
      "\n",
      "The value is: 610.390069994475\n"
     ]
    },
    {
     "name": "stderr",
     "output_type": "stream",
     "text": [
      "[I 2023-06-19 16:42:02,058] Trial 88 finished with value: 813.612878946491 and parameters: {'CultivarName': 'HY_110', 'init_fert': 229, 'residue': 415}. Best is trial 22 with value: 819.134802779112.\n"
     ]
    },
    {
     "name": "stdout",
     "output_type": "stream",
     "text": [
      "\n",
      "The value is: 813.612878946491\n"
     ]
    },
    {
     "name": "stderr",
     "output_type": "stream",
     "text": [
      "[I 2023-06-19 16:42:05,095] Trial 89 finished with value: 641.583812669478 and parameters: {'CultivarName': 'B_115', 'init_fert': 199, 'residue': 385}. Best is trial 22 with value: 819.134802779112.\n"
     ]
    },
    {
     "name": "stdout",
     "output_type": "stream",
     "text": [
      "\n",
      "The value is: 641.583812669478\n"
     ]
    },
    {
     "name": "stderr",
     "output_type": "stream",
     "text": [
      "[I 2023-06-19 16:42:08,112] Trial 90 finished with value: 629.107365179864 and parameters: {'CultivarName': 'A_110', 'init_fert': 242, 'residue': 543}. Best is trial 22 with value: 819.134802779112.\n"
     ]
    },
    {
     "name": "stdout",
     "output_type": "stream",
     "text": [
      "\n",
      "The value is: 629.107365179864\n"
     ]
    },
    {
     "name": "stderr",
     "output_type": "stream",
     "text": [
      "[I 2023-06-19 16:42:11,200] Trial 91 finished with value: 814.470593310633 and parameters: {'CultivarName': 'HY_110', 'init_fert': 214, 'residue': 421}. Best is trial 22 with value: 819.134802779112.\n"
     ]
    },
    {
     "name": "stdout",
     "output_type": "stream",
     "text": [
      "\n",
      "The value is: 814.470593310633\n"
     ]
    },
    {
     "name": "stderr",
     "output_type": "stream",
     "text": [
      "[I 2023-06-19 16:42:14,252] Trial 92 finished with value: 660.601528745922 and parameters: {'CultivarName': 'sc625', 'init_fert': 220, 'residue': 433}. Best is trial 22 with value: 819.134802779112.\n"
     ]
    },
    {
     "name": "stdout",
     "output_type": "stream",
     "text": [
      "\n",
      "The value is: 660.601528745922\n"
     ]
    },
    {
     "name": "stderr",
     "output_type": "stream",
     "text": [
      "[I 2023-06-19 16:42:17,322] Trial 93 finished with value: 654.715842142053 and parameters: {'CultivarName': 'B_112', 'init_fert': 205, 'residue': 454}. Best is trial 22 with value: 819.134802779112.\n"
     ]
    },
    {
     "name": "stdout",
     "output_type": "stream",
     "text": [
      "\n",
      "The value is: 654.715842142053\n"
     ]
    },
    {
     "name": "stderr",
     "output_type": "stream",
     "text": [
      "[I 2023-06-19 16:42:20,370] Trial 94 finished with value: 814.52146647658 and parameters: {'CultivarName': 'HY_110', 'init_fert': 212, 'residue': 472}. Best is trial 22 with value: 819.134802779112.\n"
     ]
    },
    {
     "name": "stdout",
     "output_type": "stream",
     "text": [
      "\n",
      "The value is: 814.52146647658\n"
     ]
    },
    {
     "name": "stderr",
     "output_type": "stream",
     "text": [
      "[I 2023-06-19 16:42:23,418] Trial 95 finished with value: 657.669594364054 and parameters: {'CultivarName': 'B_108', 'init_fert': 190, 'residue': 490}. Best is trial 22 with value: 819.134802779112.\n"
     ]
    },
    {
     "name": "stdout",
     "output_type": "stream",
     "text": [
      "\n",
      "The value is: 657.669594364054\n"
     ]
    },
    {
     "name": "stderr",
     "output_type": "stream",
     "text": [
      "[I 2023-06-19 16:42:26,471] Trial 96 finished with value: 813.532476123807 and parameters: {'CultivarName': 'HY_110', 'init_fert': 234, 'residue': 474}. Best is trial 22 with value: 819.134802779112.\n"
     ]
    },
    {
     "name": "stdout",
     "output_type": "stream",
     "text": [
      "\n",
      "The value is: 813.532476123807\n"
     ]
    },
    {
     "name": "stderr",
     "output_type": "stream",
     "text": [
      "[I 2023-06-19 16:42:29,502] Trial 97 finished with value: 569.508293252454 and parameters: {'CultivarName': 'Atrium', 'init_fert': 196, 'residue': 457}. Best is trial 22 with value: 819.134802779112.\n"
     ]
    },
    {
     "name": "stdout",
     "output_type": "stream",
     "text": [
      "\n",
      "The value is: 569.508293252454\n"
     ]
    },
    {
     "name": "stderr",
     "output_type": "stream",
     "text": [
      "[I 2023-06-19 16:42:32,516] Trial 98 finished with value: 641.396179997772 and parameters: {'CultivarName': 'B_115', 'init_fert': 224, 'residue': 512}. Best is trial 22 with value: 819.134802779112.\n"
     ]
    },
    {
     "name": "stdout",
     "output_type": "stream",
     "text": [
      "\n",
      "The value is: 641.396179997772\n"
     ]
    },
    {
     "name": "stderr",
     "output_type": "stream",
     "text": [
      "[I 2023-06-19 16:42:35,521] Trial 99 finished with value: 641.341403261795 and parameters: {'CultivarName': 'B_115', 'init_fert': 211, 'residue': 573}. Best is trial 22 with value: 819.134802779112.\n"
     ]
    },
    {
     "name": "stdout",
     "output_type": "stream",
     "text": [
      "\n",
      "The value is: 641.341403261795\n"
     ]
    },
    {
     "name": "stderr",
     "output_type": "stream",
     "text": [
      "[I 2023-06-19 16:42:38,594] Trial 100 finished with value: 642.021680107527 and parameters: {'CultivarName': 'B_115', 'init_fert': 185, 'residue': 637}. Best is trial 22 with value: 819.134802779112.\n"
     ]
    },
    {
     "name": "stdout",
     "output_type": "stream",
     "text": [
      "\n",
      "The value is: 642.021680107527\n"
     ]
    },
    {
     "name": "stderr",
     "output_type": "stream",
     "text": [
      "[I 2023-06-19 16:42:41,642] Trial 101 finished with value: 641.315354744626 and parameters: {'CultivarName': 'B_115', 'init_fert': 214, 'residue': 419}. Best is trial 22 with value: 819.134802779112.\n"
     ]
    },
    {
     "name": "stdout",
     "output_type": "stream",
     "text": [
      "\n",
      "The value is: 641.315354744626\n"
     ]
    },
    {
     "name": "stderr",
     "output_type": "stream",
     "text": [
      "[I 2023-06-19 16:42:44,693] Trial 102 finished with value: 661.694557747659 and parameters: {'CultivarName': 'HY_110', 'init_fert': 88, 'residue': 432}. Best is trial 22 with value: 819.134802779112.\n"
     ]
    },
    {
     "name": "stdout",
     "output_type": "stream",
     "text": [
      "\n",
      "The value is: 661.694557747659\n"
     ]
    },
    {
     "name": "stderr",
     "output_type": "stream",
     "text": [
      "[I 2023-06-19 16:42:47,780] Trial 103 finished with value: 641.432226869798 and parameters: {'CultivarName': 'B_115', 'init_fert': 204, 'residue': 396}. Best is trial 22 with value: 819.134802779112.\n"
     ]
    },
    {
     "name": "stdout",
     "output_type": "stream",
     "text": [
      "\n",
      "The value is: 641.432226869798\n"
     ]
    },
    {
     "name": "stderr",
     "output_type": "stream",
     "text": [
      "[I 2023-06-19 16:42:50,889] Trial 104 finished with value: 641.266675440851 and parameters: {'CultivarName': 'B_115', 'init_fert': 220, 'residue': 371}. Best is trial 22 with value: 819.134802779112.\n"
     ]
    },
    {
     "name": "stdout",
     "output_type": "stream",
     "text": [
      "\n",
      "The value is: 641.266675440851\n"
     ]
    },
    {
     "name": "stderr",
     "output_type": "stream",
     "text": [
      "[I 2023-06-19 16:42:53,930] Trial 105 finished with value: 626.079226945294 and parameters: {'CultivarName': 'A_112', 'init_fert': 228, 'residue': 481}. Best is trial 22 with value: 819.134802779112.\n"
     ]
    },
    {
     "name": "stdout",
     "output_type": "stream",
     "text": [
      "\n",
      "The value is: 626.079226945294\n"
     ]
    },
    {
     "name": "stderr",
     "output_type": "stream",
     "text": [
      "[I 2023-06-19 16:42:56,916] Trial 106 finished with value: 596.194722488376 and parameters: {'CultivarName': 'A_120', 'init_fert': 199, 'residue': 451}. Best is trial 22 with value: 819.134802779112.\n"
     ]
    },
    {
     "name": "stdout",
     "output_type": "stream",
     "text": [
      "\n",
      "The value is: 596.194722488376\n"
     ]
    },
    {
     "name": "stderr",
     "output_type": "stream",
     "text": [
      "[I 2023-06-19 16:42:59,895] Trial 107 finished with value: 610.520263294389 and parameters: {'CultivarName': 'B_120', 'init_fert': 177, 'residue': 499}. Best is trial 22 with value: 819.134802779112.\n"
     ]
    },
    {
     "name": "stdout",
     "output_type": "stream",
     "text": [
      "\n",
      "The value is: 610.520263294389\n"
     ]
    },
    {
     "name": "stderr",
     "output_type": "stream",
     "text": [
      "[I 2023-06-19 16:43:02,912] Trial 108 finished with value: 814.51168780212 and parameters: {'CultivarName': 'HY_110', 'init_fert': 214, 'residue': 722}. Best is trial 22 with value: 819.134802779112.\n"
     ]
    },
    {
     "name": "stdout",
     "output_type": "stream",
     "text": [
      "\n",
      "The value is: 814.51168780212\n"
     ]
    },
    {
     "name": "stderr",
     "output_type": "stream",
     "text": [
      "[I 2023-06-19 16:43:05,915] Trial 109 finished with value: 610.106165158263 and parameters: {'CultivarName': 'B_120', 'init_fert': 193, 'residue': 833}. Best is trial 22 with value: 819.134802779112.\n"
     ]
    },
    {
     "name": "stdout",
     "output_type": "stream",
     "text": [
      "\n",
      "The value is: 610.106165158263\n"
     ]
    },
    {
     "name": "stderr",
     "output_type": "stream",
     "text": [
      "[I 2023-06-19 16:43:08,973] Trial 110 finished with value: 609.396763502212 and parameters: {'CultivarName': 'B_120', 'init_fert': 237, 'residue': 678}. Best is trial 22 with value: 819.134802779112.\n"
     ]
    },
    {
     "name": "stdout",
     "output_type": "stream",
     "text": [
      "\n",
      "The value is: 609.396763502212\n"
     ]
    },
    {
     "name": "stderr",
     "output_type": "stream",
     "text": [
      "[I 2023-06-19 16:43:12,058] Trial 111 finished with value: 609.463101783595 and parameters: {'CultivarName': 'B_120', 'init_fert': 214, 'residue': 466}. Best is trial 22 with value: 819.134802779112.\n"
     ]
    },
    {
     "name": "stdout",
     "output_type": "stream",
     "text": [
      "\n",
      "The value is: 609.463101783595\n"
     ]
    },
    {
     "name": "stderr",
     "output_type": "stream",
     "text": [
      "[I 2023-06-19 16:43:15,093] Trial 112 finished with value: 814.648390608789 and parameters: {'CultivarName': 'HY_110', 'init_fert': 208, 'residue': 704}. Best is trial 22 with value: 819.134802779112.\n"
     ]
    },
    {
     "name": "stdout",
     "output_type": "stream",
     "text": [
      "\n",
      "The value is: 814.648390608789\n"
     ]
    },
    {
     "name": "stderr",
     "output_type": "stream",
     "text": [
      "[I 2023-06-19 16:43:18,188] Trial 113 finished with value: 814.682269417163 and parameters: {'CultivarName': 'HY_110', 'init_fert': 205, 'residue': 442}. Best is trial 22 with value: 819.134802779112.\n"
     ]
    },
    {
     "name": "stdout",
     "output_type": "stream",
     "text": [
      "\n",
      "The value is: 814.682269417163\n"
     ]
    },
    {
     "name": "stderr",
     "output_type": "stream",
     "text": [
      "[I 2023-06-19 16:43:21,213] Trial 114 finished with value: 641.398213782716 and parameters: {'CultivarName': 'B_115', 'init_fert': 206, 'residue': 703}. Best is trial 22 with value: 819.134802779112.\n"
     ]
    },
    {
     "name": "stdout",
     "output_type": "stream",
     "text": [
      "\n",
      "The value is: 641.398213782716\n"
     ]
    },
    {
     "name": "stderr",
     "output_type": "stream",
     "text": [
      "[I 2023-06-19 16:43:24,204] Trial 115 finished with value: 815.407551772735 and parameters: {'CultivarName': 'HY_110', 'init_fert': 199, 'residue': 705}. Best is trial 22 with value: 819.134802779112.\n"
     ]
    },
    {
     "name": "stdout",
     "output_type": "stream",
     "text": [
      "\n",
      "The value is: 815.407551772735\n"
     ]
    },
    {
     "name": "stderr",
     "output_type": "stream",
     "text": [
      "[I 2023-06-19 16:43:27,196] Trial 116 finished with value: 632.513592877351 and parameters: {'CultivarName': 'Makueni', 'init_fert': 208, 'residue': 727}. Best is trial 22 with value: 819.134802779112.\n"
     ]
    },
    {
     "name": "stdout",
     "output_type": "stream",
     "text": [
      "\n",
      "The value is: 632.513592877351\n"
     ]
    },
    {
     "name": "stderr",
     "output_type": "stream",
     "text": [
      "[I 2023-06-19 16:43:30,176] Trial 117 finished with value: 641.587141927555 and parameters: {'CultivarName': 'B_115', 'init_fert': 200, 'residue': 764}. Best is trial 22 with value: 819.134802779112.\n"
     ]
    },
    {
     "name": "stdout",
     "output_type": "stream",
     "text": [
      "\n",
      "The value is: 641.587141927555\n"
     ]
    },
    {
     "name": "stderr",
     "output_type": "stream",
     "text": [
      "[I 2023-06-19 16:43:33,184] Trial 118 finished with value: 794.912512913434 and parameters: {'CultivarName': 'HY_110', 'init_fert': 117, 'residue': 757}. Best is trial 22 with value: 819.134802779112.\n"
     ]
    },
    {
     "name": "stdout",
     "output_type": "stream",
     "text": [
      "\n",
      "The value is: 794.912512913434\n"
     ]
    },
    {
     "name": "stderr",
     "output_type": "stream",
     "text": [
      "[I 2023-06-19 16:43:36,195] Trial 119 finished with value: 241.814265822124 and parameters: {'CultivarName': 'sc401', 'init_fert': 7, 'residue': 705}. Best is trial 22 with value: 819.134802779112.\n"
     ]
    },
    {
     "name": "stdout",
     "output_type": "stream",
     "text": [
      "\n",
      "The value is: 241.814265822124\n"
     ]
    },
    {
     "name": "stderr",
     "output_type": "stream",
     "text": [
      "[I 2023-06-19 16:43:39,209] Trial 120 finished with value: 676.961949953767 and parameters: {'CultivarName': 'mh17', 'init_fert': 143, 'residue': 797}. Best is trial 22 with value: 819.134802779112.\n"
     ]
    },
    {
     "name": "stdout",
     "output_type": "stream",
     "text": [
      "\n",
      "The value is: 676.961949953767\n"
     ]
    },
    {
     "name": "stderr",
     "output_type": "stream",
     "text": [
      "[I 2023-06-19 16:43:42,254] Trial 121 finished with value: 609.586465245994 and parameters: {'CultivarName': 'B_120', 'init_fert': 220, 'residue': 667}. Best is trial 22 with value: 819.134802779112.\n"
     ]
    },
    {
     "name": "stdout",
     "output_type": "stream",
     "text": [
      "\n",
      "The value is: 609.586465245994\n"
     ]
    },
    {
     "name": "stderr",
     "output_type": "stream",
     "text": [
      "[I 2023-06-19 16:43:45,311] Trial 122 finished with value: 818.27644333745 and parameters: {'CultivarName': 'HY_110', 'init_fert': 170, 'residue': 735}. Best is trial 22 with value: 819.134802779112.\n"
     ]
    },
    {
     "name": "stdout",
     "output_type": "stream",
     "text": [
      "\n",
      "The value is: 818.27644333745\n"
     ]
    },
    {
     "name": "stderr",
     "output_type": "stream",
     "text": [
      "[I 2023-06-19 16:43:48,343] Trial 123 finished with value: 610.31060677172 and parameters: {'CultivarName': 'B_120', 'init_fert': 186, 'residue': 740}. Best is trial 22 with value: 819.134802779112.\n"
     ]
    },
    {
     "name": "stdout",
     "output_type": "stream",
     "text": [
      "\n",
      "The value is: 610.31060677172\n"
     ]
    },
    {
     "name": "stderr",
     "output_type": "stream",
     "text": [
      "[I 2023-06-19 16:43:51,392] Trial 124 finished with value: 818.95871239493 and parameters: {'CultivarName': 'HY_110', 'init_fert': 167, 'residue': 782}. Best is trial 22 with value: 819.134802779112.\n"
     ]
    },
    {
     "name": "stdout",
     "output_type": "stream",
     "text": [
      "\n",
      "The value is: 818.95871239493\n"
     ]
    },
    {
     "name": "stderr",
     "output_type": "stream",
     "text": [
      "[I 2023-06-19 16:43:54,382] Trial 125 finished with value: 558.151569244056 and parameters: {'CultivarName': 'A_80', 'init_fert': 168, 'residue': 793}. Best is trial 22 with value: 819.134802779112.\n"
     ]
    },
    {
     "name": "stdout",
     "output_type": "stream",
     "text": [
      "\n",
      "The value is: 558.151569244056\n"
     ]
    },
    {
     "name": "stderr",
     "output_type": "stream",
     "text": [
      "[I 2023-06-19 16:43:57,412] Trial 126 finished with value: 611.195791032843 and parameters: {'CultivarName': 'B_120', 'init_fert': 155, 'residue': 698}. Best is trial 22 with value: 819.134802779112.\n"
     ]
    },
    {
     "name": "stdout",
     "output_type": "stream",
     "text": [
      "\n",
      "The value is: 611.195791032843\n"
     ]
    },
    {
     "name": "stderr",
     "output_type": "stream",
     "text": [
      "[I 2023-06-19 16:44:00,426] Trial 127 finished with value: 642.676081466327 and parameters: {'CultivarName': 'B_115', 'init_fert': 164, 'residue': 783}. Best is trial 22 with value: 819.134802779112.\n"
     ]
    },
    {
     "name": "stdout",
     "output_type": "stream",
     "text": [
      "\n",
      "The value is: 642.676081466327\n"
     ]
    },
    {
     "name": "stderr",
     "output_type": "stream",
     "text": [
      "[I 2023-06-19 16:44:03,455] Trial 128 finished with value: 819.441057497588 and parameters: {'CultivarName': 'HY_110', 'init_fert': 158, 'residue': 745}. Best is trial 128 with value: 819.441057497588.\n"
     ]
    },
    {
     "name": "stdout",
     "output_type": "stream",
     "text": [
      "\n",
      "The value is: 819.441057497588\n"
     ]
    },
    {
     "name": "stderr",
     "output_type": "stream",
     "text": [
      "[I 2023-06-19 16:44:06,471] Trial 129 finished with value: 642.50984445192 and parameters: {'CultivarName': 'B_115', 'init_fert': 169, 'residue': 806}. Best is trial 128 with value: 819.441057497588.\n"
     ]
    },
    {
     "name": "stdout",
     "output_type": "stream",
     "text": [
      "\n",
      "The value is: 642.50984445192\n"
     ]
    },
    {
     "name": "stderr",
     "output_type": "stream",
     "text": [
      "[I 2023-06-19 16:44:09,508] Trial 130 finished with value: 611.643676451499 and parameters: {'CultivarName': 'B_120', 'init_fert': 144, 'residue': 744}. Best is trial 128 with value: 819.441057497588.\n"
     ]
    },
    {
     "name": "stdout",
     "output_type": "stream",
     "text": [
      "\n",
      "The value is: 611.643676451499\n"
     ]
    },
    {
     "name": "stderr",
     "output_type": "stream",
     "text": [
      "[I 2023-06-19 16:44:12,486] Trial 131 finished with value: 605.376532382536 and parameters: {'CultivarName': 'Katumani', 'init_fert': 151, 'residue': 687}. Best is trial 128 with value: 819.441057497588.\n"
     ]
    },
    {
     "name": "stdout",
     "output_type": "stream",
     "text": [
      "\n",
      "The value is: 605.376532382536\n"
     ]
    },
    {
     "name": "stderr",
     "output_type": "stream",
     "text": [
      "[I 2023-06-19 16:44:15,495] Trial 132 finished with value: 642.838793976271 and parameters: {'CultivarName': 'B_115', 'init_fert': 159, 'residue': 743}. Best is trial 128 with value: 819.441057497588.\n"
     ]
    },
    {
     "name": "stdout",
     "output_type": "stream",
     "text": [
      "\n",
      "The value is: 642.838793976271\n"
     ]
    },
    {
     "name": "stderr",
     "output_type": "stream",
     "text": [
      "[I 2023-06-19 16:44:18,523] Trial 133 finished with value: 610.511677224325 and parameters: {'CultivarName': 'B_120', 'init_fert': 178, 'residue': 726}. Best is trial 128 with value: 819.441057497588.\n"
     ]
    },
    {
     "name": "stdout",
     "output_type": "stream",
     "text": [
      "\n",
      "The value is: 610.511677224325\n"
     ]
    },
    {
     "name": "stderr",
     "output_type": "stream",
     "text": [
      "[I 2023-06-19 16:44:21,558] Trial 134 finished with value: 642.776114915898 and parameters: {'CultivarName': 'B_115', 'init_fert': 161, 'residue': 768}. Best is trial 128 with value: 819.441057497588.\n"
     ]
    },
    {
     "name": "stdout",
     "output_type": "stream",
     "text": [
      "\n",
      "The value is: 642.776114915898\n"
     ]
    },
    {
     "name": "stderr",
     "output_type": "stream",
     "text": [
      "[I 2023-06-19 16:44:24,572] Trial 135 finished with value: 642.444109763052 and parameters: {'CultivarName': 'B_115', 'init_fert': 171, 'residue': 812}. Best is trial 128 with value: 819.441057497588.\n"
     ]
    },
    {
     "name": "stdout",
     "output_type": "stream",
     "text": [
      "\n",
      "The value is: 642.444109763052\n"
     ]
    },
    {
     "name": "stderr",
     "output_type": "stream",
     "text": [
      "[I 2023-06-19 16:44:27,583] Trial 136 finished with value: 610.187157583798 and parameters: {'CultivarName': 'B_120', 'init_fert': 190, 'residue': 653}. Best is trial 128 with value: 819.441057497588.\n"
     ]
    },
    {
     "name": "stdout",
     "output_type": "stream",
     "text": [
      "\n",
      "The value is: 610.187157583798\n"
     ]
    },
    {
     "name": "stderr",
     "output_type": "stream",
     "text": [
      "[I 2023-06-19 16:44:30,683] Trial 137 finished with value: 612.021241789866 and parameters: {'CultivarName': 'B_120', 'init_fert': 135, 'residue': 887}. Best is trial 128 with value: 819.441057497588.\n"
     ]
    },
    {
     "name": "stdout",
     "output_type": "stream",
     "text": [
      "\n",
      "The value is: 612.021241789866\n"
     ]
    },
    {
     "name": "stderr",
     "output_type": "stream",
     "text": [
      "[I 2023-06-19 16:44:33,735] Trial 138 finished with value: 815.433098606865 and parameters: {'CultivarName': 'HY_110', 'init_fert': 197, 'residue': 478}. Best is trial 128 with value: 819.441057497588.\n"
     ]
    },
    {
     "name": "stdout",
     "output_type": "stream",
     "text": [
      "\n",
      "The value is: 815.433098606865\n"
     ]
    },
    {
     "name": "stderr",
     "output_type": "stream",
     "text": [
      "[I 2023-06-19 16:44:36,720] Trial 139 finished with value: 641.725750638991 and parameters: {'CultivarName': 'B_115', 'init_fert': 195, 'residue': 526}. Best is trial 128 with value: 819.441057497588.\n"
     ]
    },
    {
     "name": "stdout",
     "output_type": "stream",
     "text": [
      "\n",
      "The value is: 641.725750638991\n"
     ]
    },
    {
     "name": "stderr",
     "output_type": "stream",
     "text": [
      "[I 2023-06-19 16:44:39,780] Trial 140 finished with value: 642.120329114007 and parameters: {'CultivarName': 'B_115', 'init_fert': 181, 'residue': 484}. Best is trial 128 with value: 819.441057497588.\n"
     ]
    },
    {
     "name": "stdout",
     "output_type": "stream",
     "text": [
      "\n",
      "The value is: 642.120329114007\n"
     ]
    },
    {
     "name": "stderr",
     "output_type": "stream",
     "text": [
      "[I 2023-06-19 16:44:42,809] Trial 141 finished with value: 814.746119933265 and parameters: {'CultivarName': 'HY_110', 'init_fert': 203, 'residue': 458}. Best is trial 128 with value: 819.441057497588.\n"
     ]
    },
    {
     "name": "stdout",
     "output_type": "stream",
     "text": [
      "\n",
      "The value is: 814.746119933265\n"
     ]
    },
    {
     "name": "stderr",
     "output_type": "stream",
     "text": [
      "[I 2023-06-19 16:44:45,870] Trial 142 finished with value: 641.436822780116 and parameters: {'CultivarName': 'B_115', 'init_fert': 204, 'residue': 448}. Best is trial 128 with value: 819.441057497588.\n"
     ]
    },
    {
     "name": "stdout",
     "output_type": "stream",
     "text": [
      "\n",
      "The value is: 641.436822780116\n"
     ]
    },
    {
     "name": "stderr",
     "output_type": "stream",
     "text": [
      "[I 2023-06-19 16:44:48,986] Trial 143 finished with value: 815.387124848363 and parameters: {'CultivarName': 'HY_110', 'init_fert': 199, 'residue': 605}. Best is trial 128 with value: 819.441057497588.\n"
     ]
    },
    {
     "name": "stdout",
     "output_type": "stream",
     "text": [
      "\n",
      "The value is: 815.387124848363\n"
     ]
    },
    {
     "name": "stderr",
     "output_type": "stream",
     "text": [
      "[I 2023-06-19 16:44:52,028] Trial 144 finished with value: 815.416890471356 and parameters: {'CultivarName': 'HY_110', 'init_fert': 199, 'residue': 752}. Best is trial 128 with value: 819.441057497588.\n"
     ]
    },
    {
     "name": "stdout",
     "output_type": "stream",
     "text": [
      "\n",
      "The value is: 815.416890471356\n"
     ]
    },
    {
     "name": "stderr",
     "output_type": "stream",
     "text": [
      "[I 2023-06-19 16:44:55,054] Trial 145 finished with value: 815.387560957618 and parameters: {'CultivarName': 'HY_110', 'init_fert': 199, 'residue': 607}. Best is trial 128 with value: 819.441057497588.\n"
     ]
    },
    {
     "name": "stdout",
     "output_type": "stream",
     "text": [
      "\n",
      "The value is: 815.387560957618\n"
     ]
    },
    {
     "name": "stderr",
     "output_type": "stream",
     "text": [
      "[I 2023-06-19 16:44:58,110] Trial 146 finished with value: 815.429682615586 and parameters: {'CultivarName': 'HY_110', 'init_fert': 198, 'residue': 631}. Best is trial 128 with value: 819.441057497588.\n"
     ]
    },
    {
     "name": "stdout",
     "output_type": "stream",
     "text": [
      "\n",
      "The value is: 815.429682615586\n"
     ]
    },
    {
     "name": "stderr",
     "output_type": "stream",
     "text": [
      "[I 2023-06-19 16:45:01,140] Trial 147 finished with value: 663.313825089728 and parameters: {'CultivarName': 'B_100', 'init_fert': 193, 'residue': 593}. Best is trial 128 with value: 819.441057497588.\n"
     ]
    },
    {
     "name": "stdout",
     "output_type": "stream",
     "text": [
      "\n",
      "The value is: 663.313825089728\n"
     ]
    },
    {
     "name": "stderr",
     "output_type": "stream",
     "text": [
      "[I 2023-06-19 16:45:04,202] Trial 148 finished with value: 610.276997853493 and parameters: {'CultivarName': 'B_120', 'init_fert': 187, 'residue': 670}. Best is trial 128 with value: 819.441057497588.\n"
     ]
    },
    {
     "name": "stdout",
     "output_type": "stream",
     "text": [
      "\n",
      "The value is: 610.276997853493\n"
     ]
    },
    {
     "name": "stderr",
     "output_type": "stream",
     "text": [
      "[I 2023-06-19 16:45:07,176] Trial 149 finished with value: 641.608506035852 and parameters: {'CultivarName': 'B_115', 'init_fert': 199, 'residue': 630}. Best is trial 128 with value: 819.441057497588.\n"
     ]
    },
    {
     "name": "stdout",
     "output_type": "stream",
     "text": [
      "\n",
      "The value is: 641.608506035852\n"
     ]
    },
    {
     "name": "stderr",
     "output_type": "stream",
     "text": [
      "[I 2023-06-19 16:45:10,235] Trial 150 finished with value: 816.144768582097 and parameters: {'CultivarName': 'HY_110', 'init_fert': 183, 'residue': 753}. Best is trial 128 with value: 819.441057497588.\n"
     ]
    },
    {
     "name": "stdout",
     "output_type": "stream",
     "text": [
      "\n",
      "The value is: 816.144768582097\n"
     ]
    },
    {
     "name": "stderr",
     "output_type": "stream",
     "text": [
      "[I 2023-06-19 16:45:13,268] Trial 151 finished with value: 642.296156157286 and parameters: {'CultivarName': 'B_115', 'init_fert': 176, 'residue': 726}. Best is trial 128 with value: 819.441057497588.\n"
     ]
    },
    {
     "name": "stdout",
     "output_type": "stream",
     "text": [
      "\n",
      "The value is: 642.296156157286\n"
     ]
    },
    {
     "name": "stderr",
     "output_type": "stream",
     "text": [
      "[I 2023-06-19 16:45:16,272] Trial 152 finished with value: 816.154608339767 and parameters: {'CultivarName': 'HY_110', 'init_fert': 182, 'residue': 601}. Best is trial 128 with value: 819.441057497588.\n"
     ]
    },
    {
     "name": "stdout",
     "output_type": "stream",
     "text": [
      "\n",
      "The value is: 816.154608339767\n"
     ]
    },
    {
     "name": "stderr",
     "output_type": "stream",
     "text": [
      "[I 2023-06-19 16:45:19,324] Trial 153 finished with value: 816.113225419361 and parameters: {'CultivarName': 'HY_110', 'init_fert': 183, 'residue': 639}. Best is trial 128 with value: 819.441057497588.\n"
     ]
    },
    {
     "name": "stdout",
     "output_type": "stream",
     "text": [
      "\n",
      "The value is: 816.113225419361\n"
     ]
    },
    {
     "name": "stderr",
     "output_type": "stream",
     "text": [
      "[I 2023-06-19 16:45:22,408] Trial 154 finished with value: 642.049168318243 and parameters: {'CultivarName': 'B_115', 'init_fert': 184, 'residue': 623}. Best is trial 128 with value: 819.441057497588.\n"
     ]
    },
    {
     "name": "stdout",
     "output_type": "stream",
     "text": [
      "\n",
      "The value is: 642.049168318243\n"
     ]
    },
    {
     "name": "stderr",
     "output_type": "stream",
     "text": [
      "[I 2023-06-19 16:45:25,447] Trial 155 finished with value: 633.502056089377 and parameters: {'CultivarName': 'r215', 'init_fert': 172, 'residue': 610}. Best is trial 128 with value: 819.441057497588.\n"
     ]
    },
    {
     "name": "stdout",
     "output_type": "stream",
     "text": [
      "\n",
      "The value is: 633.502056089377\n"
     ]
    },
    {
     "name": "stderr",
     "output_type": "stream",
     "text": [
      "[I 2023-06-19 16:45:28,476] Trial 156 finished with value: 610.445446229107 and parameters: {'CultivarName': 'B_120', 'init_fert': 181, 'residue': 643}. Best is trial 128 with value: 819.441057497588.\n"
     ]
    },
    {
     "name": "stdout",
     "output_type": "stream",
     "text": [
      "\n",
      "The value is: 610.445446229107\n"
     ]
    },
    {
     "name": "stderr",
     "output_type": "stream",
     "text": [
      "[I 2023-06-19 16:45:31,517] Trial 157 finished with value: 598.269949754358 and parameters: {'CultivarName': 'Pioneer_39G12', 'init_fert': 190, 'residue': 601}. Best is trial 128 with value: 819.441057497588.\n"
     ]
    },
    {
     "name": "stdout",
     "output_type": "stream",
     "text": [
      "\n",
      "The value is: 598.269949754358\n"
     ]
    },
    {
     "name": "stderr",
     "output_type": "stream",
     "text": [
      "[I 2023-06-19 16:45:34,607] Trial 158 finished with value: 557.692991940847 and parameters: {'CultivarName': 'Dekalb_XL82', 'init_fert': 196, 'residue': 752}. Best is trial 128 with value: 819.441057497588.\n"
     ]
    },
    {
     "name": "stdout",
     "output_type": "stream",
     "text": [
      "\n",
      "The value is: 557.692991940847\n"
     ]
    },
    {
     "name": "stderr",
     "output_type": "stream",
     "text": [
      "[I 2023-06-19 16:45:37,667] Trial 159 finished with value: 818.359233498402 and parameters: {'CultivarName': 'HY_110', 'init_fert': 168, 'residue': 569}. Best is trial 128 with value: 819.441057497588.\n"
     ]
    },
    {
     "name": "stdout",
     "output_type": "stream",
     "text": [
      "\n",
      "The value is: 818.359233498402\n"
     ]
    },
    {
     "name": "stderr",
     "output_type": "stream",
     "text": [
      "[I 2023-06-19 16:45:40,759] Trial 160 finished with value: 666.294119886242 and parameters: {'CultivarName': 'sc623', 'init_fert': 158, 'residue': 780}. Best is trial 128 with value: 819.441057497588.\n"
     ]
    },
    {
     "name": "stdout",
     "output_type": "stream",
     "text": [
      "\n",
      "The value is: 666.294119886242\n"
     ]
    },
    {
     "name": "stderr",
     "output_type": "stream",
     "text": [
      "[I 2023-06-19 16:45:43,822] Trial 161 finished with value: 610.838428606389 and parameters: {'CultivarName': 'B_120', 'init_fert': 166, 'residue': 604}. Best is trial 128 with value: 819.441057497588.\n"
     ]
    },
    {
     "name": "stdout",
     "output_type": "stream",
     "text": [
      "\n",
      "The value is: 610.838428606389\n"
     ]
    },
    {
     "name": "stderr",
     "output_type": "stream",
     "text": [
      "[I 2023-06-19 16:45:46,873] Trial 162 finished with value: 817.383876994847 and parameters: {'CultivarName': 'HY_110', 'init_fert': 171, 'residue': 575}. Best is trial 128 with value: 819.441057497588.\n"
     ]
    },
    {
     "name": "stdout",
     "output_type": "stream",
     "text": [
      "\n",
      "The value is: 817.383876994847\n"
     ]
    },
    {
     "name": "stderr",
     "output_type": "stream",
     "text": [
      "[I 2023-06-19 16:45:49,899] Trial 163 finished with value: 642.015784477825 and parameters: {'CultivarName': 'B_115', 'init_fert': 185, 'residue': 573}. Best is trial 128 with value: 819.441057497588.\n"
     ]
    },
    {
     "name": "stdout",
     "output_type": "stream",
     "text": [
      "\n",
      "The value is: 642.015784477825\n"
     ]
    },
    {
     "name": "stderr",
     "output_type": "stream",
     "text": [
      "[I 2023-06-19 16:45:52,895] Trial 164 finished with value: 642.350960467369 and parameters: {'CultivarName': 'B_115', 'init_fert': 173, 'residue': 554}. Best is trial 128 with value: 819.441057497588.\n"
     ]
    },
    {
     "name": "stdout",
     "output_type": "stream",
     "text": [
      "\n",
      "The value is: 642.350960467369\n"
     ]
    },
    {
     "name": "stderr",
     "output_type": "stream",
     "text": [
      "[I 2023-06-19 16:45:55,943] Trial 165 finished with value: 816.439699023699 and parameters: {'CultivarName': 'HY_110', 'init_fert': 177, 'residue': 576}. Best is trial 128 with value: 819.441057497588.\n"
     ]
    },
    {
     "name": "stdout",
     "output_type": "stream",
     "text": [
      "\n",
      "The value is: 816.439699023699\n"
     ]
    },
    {
     "name": "stderr",
     "output_type": "stream",
     "text": [
      "[I 2023-06-19 16:45:58,956] Trial 166 finished with value: 816.581970966117 and parameters: {'CultivarName': 'HY_110', 'init_fert': 175, 'residue': 624}. Best is trial 128 with value: 819.441057497588.\n"
     ]
    },
    {
     "name": "stdout",
     "output_type": "stream",
     "text": [
      "\n",
      "The value is: 816.581970966117\n"
     ]
    },
    {
     "name": "stderr",
     "output_type": "stream",
     "text": [
      "[I 2023-06-19 16:46:01,991] Trial 167 finished with value: 642.284496948405 and parameters: {'CultivarName': 'B_115', 'init_fert': 176, 'residue': 618}. Best is trial 128 with value: 819.441057497588.\n"
     ]
    },
    {
     "name": "stdout",
     "output_type": "stream",
     "text": [
      "\n",
      "The value is: 642.284496948405\n"
     ]
    },
    {
     "name": "stderr",
     "output_type": "stream",
     "text": [
      "[I 2023-06-19 16:46:05,031] Trial 168 finished with value: 554.595961975761 and parameters: {'CultivarName': 'B_80', 'init_fert': 165, 'residue': 585}. Best is trial 128 with value: 819.441057497588.\n"
     ]
    },
    {
     "name": "stdout",
     "output_type": "stream",
     "text": [
      "\n",
      "The value is: 554.595961975761\n"
     ]
    },
    {
     "name": "stderr",
     "output_type": "stream",
     "text": [
      "[I 2023-06-19 16:46:08,092] Trial 169 finished with value: 674.352833207857 and parameters: {'CultivarName': 'A_100', 'init_fert': 179, 'residue': 638}. Best is trial 128 with value: 819.441057497588.\n"
     ]
    },
    {
     "name": "stdout",
     "output_type": "stream",
     "text": [
      "\n",
      "The value is: 674.352833207857\n"
     ]
    },
    {
     "name": "stderr",
     "output_type": "stream",
     "text": [
      "[I 2023-06-19 16:46:11,251] Trial 170 finished with value: 642.820434953492 and parameters: {'CultivarName': 'B_115', 'init_fert': 159, 'residue': 578}. Best is trial 128 with value: 819.441057497588.\n"
     ]
    },
    {
     "name": "stdout",
     "output_type": "stream",
     "text": [
      "\n",
      "The value is: 642.820434953492\n"
     ]
    },
    {
     "name": "stderr",
     "output_type": "stream",
     "text": [
      "[I 2023-06-19 16:46:14,350] Trial 171 finished with value: 610.720212097831 and parameters: {'CultivarName': 'B_120', 'init_fert': 170, 'residue': 615}. Best is trial 128 with value: 819.441057497588.\n"
     ]
    },
    {
     "name": "stdout",
     "output_type": "stream",
     "text": [
      "\n",
      "The value is: 610.720212097831\n"
     ]
    },
    {
     "name": "stderr",
     "output_type": "stream",
     "text": [
      "[I 2023-06-19 16:46:17,461] Trial 172 finished with value: 642.352105701587 and parameters: {'CultivarName': 'B_115', 'init_fert': 173, 'residue': 563}. Best is trial 128 with value: 819.441057497588.\n"
     ]
    },
    {
     "name": "stdout",
     "output_type": "stream",
     "text": [
      "\n",
      "The value is: 642.352105701587\n"
     ]
    },
    {
     "name": "stderr",
     "output_type": "stream",
     "text": [
      "[I 2023-06-19 16:46:20,642] Trial 173 finished with value: 642.103398639243 and parameters: {'CultivarName': 'B_115', 'init_fert': 182, 'residue': 599}. Best is trial 128 with value: 819.441057497588.\n"
     ]
    },
    {
     "name": "stdout",
     "output_type": "stream",
     "text": [
      "\n",
      "The value is: 642.103398639243\n"
     ]
    },
    {
     "name": "stderr",
     "output_type": "stream",
     "text": [
      "[I 2023-06-19 16:46:23,897] Trial 174 finished with value: 815.791429317969 and parameters: {'CultivarName': 'HY_110', 'init_fert': 189, 'residue': 625}. Best is trial 128 with value: 819.441057497588.\n"
     ]
    },
    {
     "name": "stdout",
     "output_type": "stream",
     "text": [
      "\n",
      "The value is: 815.791429317969\n"
     ]
    },
    {
     "name": "stderr",
     "output_type": "stream",
     "text": [
      "[I 2023-06-19 16:46:27,121] Trial 175 finished with value: 815.757251944172 and parameters: {'CultivarName': 'HY_110', 'init_fert': 190, 'residue': 661}. Best is trial 128 with value: 819.441057497588.\n"
     ]
    },
    {
     "name": "stdout",
     "output_type": "stream",
     "text": [
      "\n",
      "The value is: 815.757251944172\n"
     ]
    },
    {
     "name": "stderr",
     "output_type": "stream",
     "text": [
      "[I 2023-06-19 16:46:30,158] Trial 176 finished with value: 610.558635217738 and parameters: {'CultivarName': 'B_120', 'init_fert': 176, 'residue': 653}. Best is trial 128 with value: 819.441057497588.\n"
     ]
    },
    {
     "name": "stdout",
     "output_type": "stream",
     "text": [
      "\n",
      "The value is: 610.558635217738\n"
     ]
    },
    {
     "name": "stderr",
     "output_type": "stream",
     "text": [
      "[I 2023-06-19 16:46:33,194] Trial 177 finished with value: 610.730193986825 and parameters: {'CultivarName': 'r201', 'init_fert': 188, 'residue': 629}. Best is trial 128 with value: 819.441057497588.\n"
     ]
    },
    {
     "name": "stdout",
     "output_type": "stream",
     "text": [
      "\n",
      "The value is: 610.730193986825\n"
     ]
    },
    {
     "name": "stderr",
     "output_type": "stream",
     "text": [
      "[I 2023-06-19 16:46:36,232] Trial 178 finished with value: 819.214468221094 and parameters: {'CultivarName': 'HY_110', 'init_fert': 163, 'residue': 693}. Best is trial 128 with value: 819.441057497588.\n"
     ]
    },
    {
     "name": "stdout",
     "output_type": "stream",
     "text": [
      "\n",
      "The value is: 819.214468221094\n"
     ]
    },
    {
     "name": "stderr",
     "output_type": "stream",
     "text": [
      "[I 2023-06-19 16:46:39,368] Trial 179 finished with value: 660.479943446151 and parameters: {'CultivarName': 'sc601', 'init_fert': 152, 'residue': 687}. Best is trial 128 with value: 819.441057497588.\n"
     ]
    },
    {
     "name": "stdout",
     "output_type": "stream",
     "text": [
      "\n",
      "The value is: 660.479943446151\n"
     ]
    },
    {
     "name": "stderr",
     "output_type": "stream",
     "text": [
      "[I 2023-06-19 16:46:42,463] Trial 180 finished with value: 818.989133775328 and parameters: {'CultivarName': 'HY_110', 'init_fert': 166, 'residue': 660}. Best is trial 128 with value: 819.441057497588.\n"
     ]
    },
    {
     "name": "stdout",
     "output_type": "stream",
     "text": [
      "\n",
      "The value is: 818.989133775328\n"
     ]
    },
    {
     "name": "stderr",
     "output_type": "stream",
     "text": [
      "[I 2023-06-19 16:46:45,504] Trial 181 finished with value: 610.845637454089 and parameters: {'CultivarName': 'B_120', 'init_fert': 166, 'residue': 674}. Best is trial 128 with value: 819.441057497588.\n"
     ]
    },
    {
     "name": "stdout",
     "output_type": "stream",
     "text": [
      "\n",
      "The value is: 610.845637454089\n"
     ]
    },
    {
     "name": "stderr",
     "output_type": "stream",
     "text": [
      "[I 2023-06-19 16:46:48,557] Trial 182 finished with value: 818.321913057161 and parameters: {'CultivarName': 'HY_110', 'init_fert': 169, 'residue': 661}. Best is trial 128 with value: 819.441057497588.\n"
     ]
    },
    {
     "name": "stdout",
     "output_type": "stream",
     "text": [
      "\n",
      "The value is: 818.321913057161\n"
     ]
    },
    {
     "name": "stderr",
     "output_type": "stream",
     "text": [
      "[I 2023-06-19 16:46:51,666] Trial 183 finished with value: 642.764184862529 and parameters: {'CultivarName': 'B_115', 'init_fert': 161, 'residue': 657}. Best is trial 128 with value: 819.441057497588.\n"
     ]
    },
    {
     "name": "stdout",
     "output_type": "stream",
     "text": [
      "\n",
      "The value is: 642.764184862529\n"
     ]
    },
    {
     "name": "stderr",
     "output_type": "stream",
     "text": [
      "[I 2023-06-19 16:46:54,756] Trial 184 finished with value: 642.494064826653 and parameters: {'CultivarName': 'B_115', 'init_fert': 169, 'residue': 645}. Best is trial 128 with value: 819.441057497588.\n"
     ]
    },
    {
     "name": "stdout",
     "output_type": "stream",
     "text": [
      "\n",
      "The value is: 642.494064826653\n"
     ]
    },
    {
     "name": "stderr",
     "output_type": "stream",
     "text": [
      "[I 2023-06-19 16:46:57,967] Trial 185 finished with value: 819.553274673612 and parameters: {'CultivarName': 'HY_110', 'init_fert': 155, 'residue': 661}. Best is trial 185 with value: 819.553274673612.\n"
     ]
    },
    {
     "name": "stdout",
     "output_type": "stream",
     "text": [
      "\n",
      "The value is: 819.553274673612\n"
     ]
    },
    {
     "name": "stderr",
     "output_type": "stream",
     "text": [
      "[I 2023-06-19 16:47:01,147] Trial 186 finished with value: 677.285777451 and parameters: {'CultivarName': 'Pioneer_3153', 'init_fert': 155, 'residue': 689}. Best is trial 185 with value: 819.553274673612.\n"
     ]
    },
    {
     "name": "stdout",
     "output_type": "stream",
     "text": [
      "\n",
      "The value is: 677.285777451\n"
     ]
    },
    {
     "name": "stderr",
     "output_type": "stream",
     "text": [
      "[I 2023-06-19 16:47:04,312] Trial 187 finished with value: 820.706242879662 and parameters: {'CultivarName': 'HY_110', 'init_fert': 148, 'residue': 664}. Best is trial 187 with value: 820.706242879662.\n"
     ]
    },
    {
     "name": "stdout",
     "output_type": "stream",
     "text": [
      "\n",
      "The value is: 820.706242879662\n"
     ]
    },
    {
     "name": "stderr",
     "output_type": "stream",
     "text": [
      "[I 2023-06-19 16:47:07,549] Trial 188 finished with value: 611.361576717605 and parameters: {'CultivarName': 'B_120', 'init_fert': 151, 'residue': 665}. Best is trial 187 with value: 820.706242879662.\n"
     ]
    },
    {
     "name": "stdout",
     "output_type": "stream",
     "text": [
      "\n",
      "The value is: 611.361576717605\n"
     ]
    },
    {
     "name": "stderr",
     "output_type": "stream",
     "text": [
      "[I 2023-06-19 16:47:10,586] Trial 189 finished with value: 643.068151281144 and parameters: {'CultivarName': 'B_115', 'init_fert': 147, 'residue': 663}. Best is trial 187 with value: 820.706242879662.\n"
     ]
    },
    {
     "name": "stdout",
     "output_type": "stream",
     "text": [
      "\n",
      "The value is: 643.068151281144\n"
     ]
    },
    {
     "name": "stderr",
     "output_type": "stream",
     "text": [
      "[I 2023-06-19 16:47:13,606] Trial 190 finished with value: 617.085298892497 and parameters: {'CultivarName': 'B_90', 'init_fert': 162, 'residue': 643}. Best is trial 187 with value: 820.706242879662.\n"
     ]
    },
    {
     "name": "stdout",
     "output_type": "stream",
     "text": [
      "\n",
      "The value is: 617.085298892497\n"
     ]
    },
    {
     "name": "stderr",
     "output_type": "stream",
     "text": [
      "[I 2023-06-19 16:47:16,701] Trial 191 finished with value: 819.499425492347 and parameters: {'CultivarName': 'HY_110', 'init_fert': 156, 'residue': 630}. Best is trial 187 with value: 820.706242879662.\n"
     ]
    },
    {
     "name": "stdout",
     "output_type": "stream",
     "text": [
      "\n",
      "The value is: 819.499425492347\n"
     ]
    },
    {
     "name": "stderr",
     "output_type": "stream",
     "text": [
      "[I 2023-06-19 16:47:19,748] Trial 192 finished with value: 611.139612527844 and parameters: {'CultivarName': 'B_120', 'init_fert': 156, 'residue': 653}. Best is trial 187 with value: 820.706242879662.\n"
     ]
    },
    {
     "name": "stdout",
     "output_type": "stream",
     "text": [
      "\n",
      "The value is: 611.139612527844\n"
     ]
    },
    {
     "name": "stderr",
     "output_type": "stream",
     "text": [
      "[I 2023-06-19 16:47:22,804] Trial 193 finished with value: 610.876643533441 and parameters: {'CultivarName': 'B_120', 'init_fert': 165, 'residue': 684}. Best is trial 187 with value: 820.706242879662.\n"
     ]
    },
    {
     "name": "stdout",
     "output_type": "stream",
     "text": [
      "\n",
      "The value is: 610.876643533441\n"
     ]
    },
    {
     "name": "stderr",
     "output_type": "stream",
     "text": [
      "[I 2023-06-19 16:47:25,861] Trial 194 finished with value: 674.448218814152 and parameters: {'CultivarName': 'A_103', 'init_fert': 171, 'residue': 626}. Best is trial 187 with value: 820.706242879662.\n"
     ]
    },
    {
     "name": "stdout",
     "output_type": "stream",
     "text": [
      "\n",
      "The value is: 674.448218814152\n"
     ]
    },
    {
     "name": "stderr",
     "output_type": "stream",
     "text": [
      "[I 2023-06-19 16:47:29,043] Trial 195 finished with value: 611.500664840338 and parameters: {'CultivarName': 'B_120', 'init_fert': 148, 'residue': 673}. Best is trial 187 with value: 820.706242879662.\n"
     ]
    },
    {
     "name": "stdout",
     "output_type": "stream",
     "text": [
      "\n",
      "The value is: 611.500664840338\n"
     ]
    },
    {
     "name": "stderr",
     "output_type": "stream",
     "text": [
      "[I 2023-06-19 16:47:32,142] Trial 196 finished with value: 819.248575537463 and parameters: {'CultivarName': 'HY_110', 'init_fert': 162, 'residue': 632}. Best is trial 187 with value: 820.706242879662.\n"
     ]
    },
    {
     "name": "stdout",
     "output_type": "stream",
     "text": [
      "\n",
      "The value is: 819.248575537463\n"
     ]
    },
    {
     "name": "stderr",
     "output_type": "stream",
     "text": [
      "[I 2023-06-19 16:47:35,216] Trial 197 finished with value: 642.736815191175 and parameters: {'CultivarName': 'B_115', 'init_fert': 162, 'residue': 712}. Best is trial 187 with value: 820.706242879662.\n"
     ]
    },
    {
     "name": "stdout",
     "output_type": "stream",
     "text": [
      "\n",
      "The value is: 642.736815191175\n"
     ]
    },
    {
     "name": "stderr",
     "output_type": "stream",
     "text": [
      "[I 2023-06-19 16:47:38,270] Trial 198 finished with value: 818.380708052994 and parameters: {'CultivarName': 'HY_110', 'init_fert': 168, 'residue': 621}. Best is trial 187 with value: 820.706242879662.\n"
     ]
    },
    {
     "name": "stdout",
     "output_type": "stream",
     "text": [
      "\n",
      "The value is: 818.380708052994\n"
     ]
    },
    {
     "name": "stderr",
     "output_type": "stream",
     "text": [
      "[I 2023-06-19 16:47:41,341] Trial 199 finished with value: 819.454253485055 and parameters: {'CultivarName': 'HY_110', 'init_fert': 157, 'residue': 619}. Best is trial 187 with value: 820.706242879662.\n"
     ]
    },
    {
     "name": "stdout",
     "output_type": "stream",
     "text": [
      "\n",
      "The value is: 819.454253485055\n"
     ]
    },
    {
     "name": "stderr",
     "output_type": "stream",
     "text": [
      "[I 2023-06-19 16:47:44,429] Trial 200 finished with value: 611.837920496585 and parameters: {'CultivarName': 'B_120', 'init_fert': 138, 'residue': 586}. Best is trial 187 with value: 820.706242879662.\n"
     ]
    },
    {
     "name": "stdout",
     "output_type": "stream",
     "text": [
      "\n",
      "The value is: 611.837920496585\n"
     ]
    },
    {
     "name": "stderr",
     "output_type": "stream",
     "text": [
      "[I 2023-06-19 16:47:47,494] Trial 201 finished with value: 611.050691401483 and parameters: {'CultivarName': 'B_120', 'init_fert': 159, 'residue': 637}. Best is trial 187 with value: 820.706242879662.\n"
     ]
    },
    {
     "name": "stdout",
     "output_type": "stream",
     "text": [
      "\n",
      "The value is: 611.050691401483\n"
     ]
    },
    {
     "name": "stderr",
     "output_type": "stream",
     "text": [
      "[I 2023-06-19 16:47:50,502] Trial 202 finished with value: 610.779414868035 and parameters: {'CultivarName': 'B_120', 'init_fert': 168, 'residue': 617}. Best is trial 187 with value: 820.706242879662.\n"
     ]
    },
    {
     "name": "stdout",
     "output_type": "stream",
     "text": [
      "\n",
      "The value is: 610.779414868035\n"
     ]
    },
    {
     "name": "stderr",
     "output_type": "stream",
     "text": [
      "[I 2023-06-19 16:47:53,539] Trial 203 finished with value: 675.710191656733 and parameters: {'CultivarName': 'mh12', 'init_fert': 155, 'residue': 630}. Best is trial 187 with value: 820.706242879662.\n"
     ]
    },
    {
     "name": "stdout",
     "output_type": "stream",
     "text": [
      "\n",
      "The value is: 675.710191656733\n"
     ]
    },
    {
     "name": "stderr",
     "output_type": "stream",
     "text": [
      "[I 2023-06-19 16:47:56,586] Trial 204 finished with value: 424.478897427308 and parameters: {'CultivarName': 'LY_110', 'init_fert': 175, 'residue': 648}. Best is trial 187 with value: 820.706242879662.\n"
     ]
    },
    {
     "name": "stdout",
     "output_type": "stream",
     "text": [
      "\n",
      "The value is: 424.478897427308\n"
     ]
    },
    {
     "name": "stderr",
     "output_type": "stream",
     "text": [
      "[I 2023-06-19 16:47:59,611] Trial 205 finished with value: 642.657987539626 and parameters: {'CultivarName': 'B_115', 'init_fert': 164, 'residue': 618}. Best is trial 187 with value: 820.706242879662.\n"
     ]
    },
    {
     "name": "stdout",
     "output_type": "stream",
     "text": [
      "\n",
      "The value is: 642.657987539626\n"
     ]
    },
    {
     "name": "stderr",
     "output_type": "stream",
     "text": [
      "[I 2023-06-19 16:48:02,661] Trial 206 finished with value: 642.52142938938 and parameters: {'CultivarName': 'B_115', 'init_fert': 168, 'residue': 591}. Best is trial 187 with value: 820.706242879662.\n"
     ]
    },
    {
     "name": "stdout",
     "output_type": "stream",
     "text": [
      "\n",
      "The value is: 642.52142938938\n"
     ]
    },
    {
     "name": "stderr",
     "output_type": "stream",
     "text": [
      "[I 2023-06-19 16:48:05,745] Trial 207 finished with value: 820.328875293351 and parameters: {'CultivarName': 'HY_110', 'init_fert': 152, 'residue': 958}. Best is trial 187 with value: 820.706242879662.\n"
     ]
    },
    {
     "name": "stdout",
     "output_type": "stream",
     "text": [
      "\n",
      "The value is: 820.328875293351\n"
     ]
    },
    {
     "name": "stderr",
     "output_type": "stream",
     "text": [
      "[I 2023-06-19 16:48:08,753] Trial 208 finished with value: 643.056420583683 and parameters: {'CultivarName': 'B_115', 'init_fert': 148, 'residue': 855}. Best is trial 187 with value: 820.706242879662.\n"
     ]
    },
    {
     "name": "stdout",
     "output_type": "stream",
     "text": [
      "\n",
      "The value is: 643.056420583683\n"
     ]
    },
    {
     "name": "stderr",
     "output_type": "stream",
     "text": [
      "[I 2023-06-19 16:48:11,791] Trial 209 finished with value: 638.76271215339 and parameters: {'CultivarName': 'P1197', 'init_fert': 156, 'residue': 573}. Best is trial 187 with value: 820.706242879662.\n"
     ]
    },
    {
     "name": "stdout",
     "output_type": "stream",
     "text": [
      "\n",
      "The value is: 638.76271215339\n"
     ]
    },
    {
     "name": "stderr",
     "output_type": "stream",
     "text": [
      "[I 2023-06-19 16:48:14,830] Trial 210 finished with value: 643.355239644832 and parameters: {'CultivarName': 'B_115', 'init_fert': 139, 'residue': 694}. Best is trial 187 with value: 820.706242879662.\n"
     ]
    },
    {
     "name": "stdout",
     "output_type": "stream",
     "text": [
      "\n",
      "The value is: 643.355239644832\n"
     ]
    },
    {
     "name": "stderr",
     "output_type": "stream",
     "text": [
      "[I 2023-06-19 16:48:17,889] Trial 211 finished with value: 642.762525627998 and parameters: {'CultivarName': 'B_115', 'init_fert': 161, 'residue': 642}. Best is trial 187 with value: 820.706242879662.\n"
     ]
    },
    {
     "name": "stdout",
     "output_type": "stream",
     "text": [
      "\n",
      "The value is: 642.762525627998\n"
     ]
    },
    {
     "name": "stderr",
     "output_type": "stream",
     "text": [
      "[I 2023-06-19 16:48:20,916] Trial 212 finished with value: 642.391063192795 and parameters: {'CultivarName': 'B_115', 'init_fert': 172, 'residue': 619}. Best is trial 187 with value: 820.706242879662.\n"
     ]
    },
    {
     "name": "stdout",
     "output_type": "stream",
     "text": [
      "\n",
      "The value is: 642.391063192795\n"
     ]
    },
    {
     "name": "stderr",
     "output_type": "stream",
     "text": [
      "[I 2023-06-19 16:48:23,936] Trial 213 finished with value: 820.496133005958 and parameters: {'CultivarName': 'HY_110', 'init_fert': 151, 'residue': 739}. Best is trial 187 with value: 820.706242879662.\n"
     ]
    },
    {
     "name": "stdout",
     "output_type": "stream",
     "text": [
      "\n",
      "The value is: 820.496133005958\n"
     ]
    },
    {
     "name": "stderr",
     "output_type": "stream",
     "text": [
      "[I 2023-06-19 16:48:26,971] Trial 214 finished with value: 642.862350109828 and parameters: {'CultivarName': 'B_115', 'init_fert': 152, 'residue': 739}. Best is trial 187 with value: 820.706242879662.\n"
     ]
    },
    {
     "name": "stdout",
     "output_type": "stream",
     "text": [
      "\n",
      "The value is: 642.862350109828\n"
     ]
    },
    {
     "name": "stderr",
     "output_type": "stream",
     "text": [
      "[I 2023-06-19 16:48:30,001] Trial 215 finished with value: 485.863346746597 and parameters: {'CultivarName': 'Melkassa', 'init_fert': 143, 'residue': 720}. Best is trial 187 with value: 820.706242879662.\n"
     ]
    },
    {
     "name": "stdout",
     "output_type": "stream",
     "text": [
      "\n",
      "The value is: 485.863346746597\n"
     ]
    },
    {
     "name": "stderr",
     "output_type": "stream",
     "text": [
      "[I 2023-06-19 16:48:33,043] Trial 216 finished with value: 819.446802673385 and parameters: {'CultivarName': 'HY_110', 'init_fert': 158, 'residue': 771}. Best is trial 187 with value: 820.706242879662.\n"
     ]
    },
    {
     "name": "stdout",
     "output_type": "stream",
     "text": [
      "\n",
      "The value is: 819.446802673385\n"
     ]
    },
    {
     "name": "stderr",
     "output_type": "stream",
     "text": [
      "[I 2023-06-19 16:48:36,067] Trial 217 finished with value: 611.10849293216 and parameters: {'CultivarName': 'B_120', 'init_fert': 158, 'residue': 944}. Best is trial 187 with value: 820.706242879662.\n"
     ]
    },
    {
     "name": "stdout",
     "output_type": "stream",
     "text": [
      "\n",
      "The value is: 611.10849293216\n"
     ]
    },
    {
     "name": "stderr",
     "output_type": "stream",
     "text": [
      "[I 2023-06-19 16:48:39,096] Trial 218 finished with value: 568.399459396566 and parameters: {'CultivarName': 'Hycorn_40', 'init_fert': 126, 'residue': 964}. Best is trial 187 with value: 820.706242879662.\n"
     ]
    },
    {
     "name": "stdout",
     "output_type": "stream",
     "text": [
      "\n",
      "The value is: 568.399459396566\n"
     ]
    },
    {
     "name": "stderr",
     "output_type": "stream",
     "text": [
      "[I 2023-06-19 16:48:42,112] Trial 219 finished with value: 642.984945147081 and parameters: {'CultivarName': 'B_115', 'init_fert': 149, 'residue': 758}. Best is trial 187 with value: 820.706242879662.\n"
     ]
    },
    {
     "name": "stdout",
     "output_type": "stream",
     "text": [
      "\n",
      "The value is: 642.984945147081\n"
     ]
    },
    {
     "name": "stderr",
     "output_type": "stream",
     "text": [
      "[I 2023-06-19 16:48:45,192] Trial 220 finished with value: 642.675545523913 and parameters: {'CultivarName': 'B_115', 'init_fert': 164, 'residue': 778}. Best is trial 187 with value: 820.706242879662.\n"
     ]
    },
    {
     "name": "stdout",
     "output_type": "stream",
     "text": [
      "\n",
      "The value is: 642.675545523913\n"
     ]
    },
    {
     "name": "stderr",
     "output_type": "stream",
     "text": [
      "[I 2023-06-19 16:48:48,264] Trial 221 finished with value: 611.261889714839 and parameters: {'CultivarName': 'B_120', 'init_fert': 154, 'residue': 765}. Best is trial 187 with value: 820.706242879662.\n"
     ]
    },
    {
     "name": "stdout",
     "output_type": "stream",
     "text": [
      "\n",
      "The value is: 611.261889714839\n"
     ]
    },
    {
     "name": "stderr",
     "output_type": "stream",
     "text": [
      "[I 2023-06-19 16:48:51,319] Trial 222 finished with value: 610.51251278014 and parameters: {'CultivarName': 'B_120', 'init_fert': 178, 'residue': 739}. Best is trial 187 with value: 820.706242879662.\n"
     ]
    },
    {
     "name": "stdout",
     "output_type": "stream",
     "text": [
      "\n",
      "The value is: 610.51251278014\n"
     ]
    },
    {
     "name": "stderr",
     "output_type": "stream",
     "text": [
      "[I 2023-06-19 16:48:54,369] Trial 223 finished with value: 819.326313707369 and parameters: {'CultivarName': 'HY_110', 'init_fert': 160, 'residue': 599}. Best is trial 187 with value: 820.706242879662.\n"
     ]
    },
    {
     "name": "stdout",
     "output_type": "stream",
     "text": [
      "\n",
      "The value is: 819.326313707369\n"
     ]
    },
    {
     "name": "stderr",
     "output_type": "stream",
     "text": [
      "[I 2023-06-19 16:48:57,435] Trial 224 finished with value: 610.987890339201 and parameters: {'CultivarName': 'B_120', 'init_fert': 161, 'residue': 603}. Best is trial 187 with value: 820.706242879662.\n"
     ]
    },
    {
     "name": "stdout",
     "output_type": "stream",
     "text": [
      "\n",
      "The value is: 610.987890339201\n"
     ]
    },
    {
     "name": "stderr",
     "output_type": "stream",
     "text": [
      "[I 2023-06-19 16:49:00,470] Trial 225 finished with value: 818.349704673338 and parameters: {'CultivarName': 'HY_110', 'init_fert': 168, 'residue': 546}. Best is trial 187 with value: 820.706242879662.\n"
     ]
    },
    {
     "name": "stdout",
     "output_type": "stream",
     "text": [
      "\n",
      "The value is: 818.349704673338\n"
     ]
    },
    {
     "name": "stderr",
     "output_type": "stream",
     "text": [
      "[I 2023-06-19 16:49:03,513] Trial 226 finished with value: 818.348873543983 and parameters: {'CultivarName': 'HY_110', 'init_fert': 168, 'residue': 544}. Best is trial 187 with value: 820.706242879662.\n"
     ]
    },
    {
     "name": "stdout",
     "output_type": "stream",
     "text": [
      "\n",
      "The value is: 818.348873543983\n"
     ]
    },
    {
     "name": "stderr",
     "output_type": "stream",
     "text": [
      "[I 2023-06-19 16:49:06,531] Trial 227 finished with value: 649.408917941871 and parameters: {'CultivarName': 'Pioneer_33M54', 'init_fert': 167, 'residue': 556}. Best is trial 187 with value: 820.706242879662.\n"
     ]
    },
    {
     "name": "stdout",
     "output_type": "stream",
     "text": [
      "\n",
      "The value is: 649.408917941871\n"
     ]
    },
    {
     "name": "stderr",
     "output_type": "stream",
     "text": [
      "[I 2023-06-19 16:49:09,564] Trial 228 finished with value: 669.78437857417 and parameters: {'CultivarName': 'B_103', 'init_fert': 160, 'residue': 538}. Best is trial 187 with value: 820.706242879662.\n"
     ]
    },
    {
     "name": "stdout",
     "output_type": "stream",
     "text": [
      "\n",
      "The value is: 669.78437857417\n"
     ]
    },
    {
     "name": "stderr",
     "output_type": "stream",
     "text": [
      "[I 2023-06-19 16:49:12,601] Trial 229 finished with value: 818.275747869565 and parameters: {'CultivarName': 'HY_110', 'init_fert': 169, 'residue': 545}. Best is trial 187 with value: 820.706242879662.\n"
     ]
    },
    {
     "name": "stdout",
     "output_type": "stream",
     "text": [
      "\n",
      "The value is: 818.275747869565\n"
     ]
    },
    {
     "name": "stderr",
     "output_type": "stream",
     "text": [
      "[I 2023-06-19 16:49:15,634] Trial 230 finished with value: 673.799621642512 and parameters: {'CultivarName': 'mh16', 'init_fert': 168, 'residue': 538}. Best is trial 187 with value: 820.706242879662.\n"
     ]
    },
    {
     "name": "stdout",
     "output_type": "stream",
     "text": [
      "\n",
      "The value is: 673.799621642512\n"
     ]
    },
    {
     "name": "stderr",
     "output_type": "stream",
     "text": [
      "[I 2023-06-19 16:49:18,650] Trial 231 finished with value: 817.254756608628 and parameters: {'CultivarName': 'HY_110', 'init_fert': 173, 'residue': 578}. Best is trial 187 with value: 820.706242879662.\n"
     ]
    },
    {
     "name": "stdout",
     "output_type": "stream",
     "text": [
      "\n",
      "The value is: 817.254756608628\n"
     ]
    },
    {
     "name": "stderr",
     "output_type": "stream",
     "text": [
      "[I 2023-06-19 16:49:21,697] Trial 232 finished with value: 817.43508246658 and parameters: {'CultivarName': 'HY_110', 'init_fert': 170, 'residue': 537}. Best is trial 187 with value: 820.706242879662.\n"
     ]
    },
    {
     "name": "stdout",
     "output_type": "stream",
     "text": [
      "\n",
      "The value is: 817.43508246658\n"
     ]
    },
    {
     "name": "stderr",
     "output_type": "stream",
     "text": [
      "[I 2023-06-19 16:49:24,773] Trial 233 finished with value: 575.626612210958 and parameters: {'CultivarName': 'B_130', 'init_fert': 164, 'residue': 558}. Best is trial 187 with value: 820.706242879662.\n"
     ]
    },
    {
     "name": "stdout",
     "output_type": "stream",
     "text": [
      "\n",
      "The value is: 575.626612210958\n"
     ]
    },
    {
     "name": "stderr",
     "output_type": "stream",
     "text": [
      "[I 2023-06-19 16:49:27,818] Trial 234 finished with value: 611.157230954568 and parameters: {'CultivarName': 'B_120', 'init_fert': 155, 'residue': 550}. Best is trial 187 with value: 820.706242879662.\n"
     ]
    },
    {
     "name": "stdout",
     "output_type": "stream",
     "text": [
      "\n",
      "The value is: 611.157230954568\n"
     ]
    },
    {
     "name": "stderr",
     "output_type": "stream",
     "text": [
      "[I 2023-06-19 16:49:30,864] Trial 235 finished with value: 545.61003119434 and parameters: {'CultivarName': 'GH_5019WX', 'init_fert': 172, 'residue': 562}. Best is trial 187 with value: 820.706242879662.\n"
     ]
    },
    {
     "name": "stdout",
     "output_type": "stream",
     "text": [
      "\n",
      "The value is: 545.61003119434\n"
     ]
    },
    {
     "name": "stderr",
     "output_type": "stream",
     "text": [
      "[I 2023-06-19 16:49:33,921] Trial 236 finished with value: 819.393977285782 and parameters: {'CultivarName': 'HY_110', 'init_fert': 158, 'residue': 541}. Best is trial 187 with value: 820.706242879662.\n"
     ]
    },
    {
     "name": "stdout",
     "output_type": "stream",
     "text": [
      "\n",
      "The value is: 819.393977285782\n"
     ]
    },
    {
     "name": "stderr",
     "output_type": "stream",
     "text": [
      "[I 2023-06-19 16:49:36,919] Trial 237 finished with value: 642.815028490224 and parameters: {'CultivarName': 'B_115', 'init_fert': 159, 'residue': 534}. Best is trial 187 with value: 820.706242879662.\n"
     ]
    },
    {
     "name": "stdout",
     "output_type": "stream",
     "text": [
      "\n",
      "The value is: 642.815028490224\n"
     ]
    },
    {
     "name": "stderr",
     "output_type": "stream",
     "text": [
      "[I 2023-06-19 16:49:39,951] Trial 238 finished with value: 643.089021554153 and parameters: {'CultivarName': 'B_115', 'init_fert': 146, 'residue': 548}. Best is trial 187 with value: 820.706242879662.\n"
     ]
    },
    {
     "name": "stdout",
     "output_type": "stream",
     "text": [
      "\n",
      "The value is: 643.089021554153\n"
     ]
    },
    {
     "name": "stderr",
     "output_type": "stream",
     "text": [
      "[I 2023-06-19 16:49:42,963] Trial 239 finished with value: 642.979963126578 and parameters: {'CultivarName': 'B_115', 'init_fert': 154, 'residue': 570}. Best is trial 187 with value: 820.706242879662.\n"
     ]
    },
    {
     "name": "stdout",
     "output_type": "stream",
     "text": [
      "\n",
      "The value is: 642.979963126578\n"
     ]
    },
    {
     "name": "stderr",
     "output_type": "stream",
     "text": [
      "[I 2023-06-19 16:49:46,002] Trial 240 finished with value: 819.086822115644 and parameters: {'CultivarName': 'HY_110', 'init_fert': 164, 'residue': 516}. Best is trial 187 with value: 820.706242879662.\n"
     ]
    },
    {
     "name": "stdout",
     "output_type": "stream",
     "text": [
      "\n",
      "The value is: 819.086822115644\n"
     ]
    },
    {
     "name": "stderr",
     "output_type": "stream",
     "text": [
      "[I 2023-06-19 16:49:49,059] Trial 241 finished with value: 642.612107587527 and parameters: {'CultivarName': 'B_115', 'init_fert': 165, 'residue': 521}. Best is trial 187 with value: 820.706242879662.\n"
     ]
    },
    {
     "name": "stdout",
     "output_type": "stream",
     "text": [
      "\n",
      "The value is: 642.612107587527\n"
     ]
    },
    {
     "name": "stderr",
     "output_type": "stream",
     "text": [
      "[I 2023-06-19 16:49:52,140] Trial 242 finished with value: 642.844289574244 and parameters: {'CultivarName': 'B_115', 'init_fert': 158, 'residue': 510}. Best is trial 187 with value: 820.706242879662.\n"
     ]
    },
    {
     "name": "stdout",
     "output_type": "stream",
     "text": [
      "\n",
      "The value is: 642.844289574244\n"
     ]
    },
    {
     "name": "stderr",
     "output_type": "stream",
     "text": [
      "[I 2023-06-19 16:49:55,191] Trial 243 finished with value: 610.769283459626 and parameters: {'CultivarName': 'B_120', 'init_fert': 168, 'residue': 528}. Best is trial 187 with value: 820.706242879662.\n"
     ]
    },
    {
     "name": "stdout",
     "output_type": "stream",
     "text": [
      "\n",
      "The value is: 610.769283459626\n"
     ]
    },
    {
     "name": "stderr",
     "output_type": "stream",
     "text": [
      "[I 2023-06-19 16:49:58,256] Trial 244 finished with value: 610.921047021837 and parameters: {'CultivarName': 'B_120', 'init_fert': 163, 'residue': 539}. Best is trial 187 with value: 820.706242879662.\n"
     ]
    },
    {
     "name": "stdout",
     "output_type": "stream",
     "text": [
      "\n",
      "The value is: 610.921047021837\n"
     ]
    },
    {
     "name": "stderr",
     "output_type": "stream",
     "text": [
      "[I 2023-06-19 16:50:01,279] Trial 245 finished with value: 820.477826390457 and parameters: {'CultivarName': 'HY_110', 'init_fert': 151, 'residue': 515}. Best is trial 187 with value: 820.706242879662.\n"
     ]
    },
    {
     "name": "stdout",
     "output_type": "stream",
     "text": [
      "\n",
      "The value is: 820.477826390457\n"
     ]
    },
    {
     "name": "stderr",
     "output_type": "stream",
     "text": [
      "[I 2023-06-19 16:50:04,306] Trial 246 finished with value: 642.836817168138 and parameters: {'CultivarName': 'B_115', 'init_fert': 152, 'residue': 503}. Best is trial 187 with value: 820.706242879662.\n"
     ]
    },
    {
     "name": "stdout",
     "output_type": "stream",
     "text": [
      "\n",
      "The value is: 642.836817168138\n"
     ]
    },
    {
     "name": "stderr",
     "output_type": "stream",
     "text": [
      "[I 2023-06-19 16:50:07,395] Trial 247 finished with value: 820.621892696843 and parameters: {'CultivarName': 'HY_110', 'init_fert': 149, 'residue': 517}. Best is trial 187 with value: 820.706242879662.\n"
     ]
    },
    {
     "name": "stdout",
     "output_type": "stream",
     "text": [
      "\n",
      "The value is: 820.621892696843\n"
     ]
    },
    {
     "name": "stderr",
     "output_type": "stream",
     "text": [
      "[I 2023-06-19 16:50:10,497] Trial 248 finished with value: 643.193640244274 and parameters: {'CultivarName': 'B_115', 'init_fert': 143, 'residue': 522}. Best is trial 187 with value: 820.706242879662.\n"
     ]
    },
    {
     "name": "stdout",
     "output_type": "stream",
     "text": [
      "\n",
      "The value is: 643.193640244274\n"
     ]
    },
    {
     "name": "stderr",
     "output_type": "stream",
     "text": [
      "[I 2023-06-19 16:50:13,563] Trial 249 finished with value: 642.879809086972 and parameters: {'CultivarName': 'B_115', 'init_fert': 150, 'residue': 515}. Best is trial 187 with value: 820.706242879662.\n"
     ]
    },
    {
     "name": "stdout",
     "output_type": "stream",
     "text": [
      "\n",
      "The value is: 642.879809086972\n"
     ]
    },
    {
     "name": "stderr",
     "output_type": "stream",
     "text": [
      "[I 2023-06-19 16:50:16,684] Trial 250 finished with value: 659.977339075646 and parameters: {'CultivarName': 'mh18', 'init_fert': 157, 'residue': 669}. Best is trial 187 with value: 820.706242879662.\n"
     ]
    },
    {
     "name": "stdout",
     "output_type": "stream",
     "text": [
      "\n",
      "The value is: 659.977339075646\n"
     ]
    },
    {
     "name": "stderr",
     "output_type": "stream",
     "text": [
      "[I 2023-06-19 16:50:19,808] Trial 251 finished with value: 611.451036978982 and parameters: {'CultivarName': 'B_120', 'init_fert': 150, 'residue': 868}. Best is trial 187 with value: 820.706242879662.\n"
     ]
    },
    {
     "name": "stdout",
     "output_type": "stream",
     "text": [
      "\n",
      "The value is: 611.451036978982\n"
     ]
    },
    {
     "name": "stderr",
     "output_type": "stream",
     "text": [
      "[I 2023-06-19 16:50:22,868] Trial 252 finished with value: 446.319764607329 and parameters: {'CultivarName': 'B_115', 'init_fert': 39, 'residue': 553}. Best is trial 187 with value: 820.706242879662.\n"
     ]
    },
    {
     "name": "stdout",
     "output_type": "stream",
     "text": [
      "\n",
      "The value is: 446.319764607329\n"
     ]
    },
    {
     "name": "stderr",
     "output_type": "stream",
     "text": [
      "[I 2023-06-19 16:50:25,961] Trial 253 finished with value: 819.29349867757 and parameters: {'CultivarName': 'HY_110', 'init_fert': 162, 'residue': 819}. Best is trial 187 with value: 820.706242879662.\n"
     ]
    },
    {
     "name": "stdout",
     "output_type": "stream",
     "text": [
      "\n",
      "The value is: 819.29349867757\n"
     ]
    },
    {
     "name": "stderr",
     "output_type": "stream",
     "text": [
      "[I 2023-06-19 16:50:29,027] Trial 254 finished with value: 610.980955367124 and parameters: {'CultivarName': 'B_120', 'init_fert': 162, 'residue': 834}. Best is trial 187 with value: 820.706242879662.\n"
     ]
    },
    {
     "name": "stdout",
     "output_type": "stream",
     "text": [
      "\n",
      "The value is: 610.980955367124\n"
     ]
    },
    {
     "name": "stderr",
     "output_type": "stream",
     "text": [
      "[I 2023-06-19 16:50:32,082] Trial 255 finished with value: 635.576188493838 and parameters: {'CultivarName': 'sc501', 'init_fert': 146, 'residue': 717}. Best is trial 187 with value: 820.706242879662.\n"
     ]
    },
    {
     "name": "stdout",
     "output_type": "stream",
     "text": [
      "\n",
      "The value is: 635.576188493838\n"
     ]
    },
    {
     "name": "stderr",
     "output_type": "stream",
     "text": [
      "[I 2023-06-19 16:50:35,074] Trial 256 finished with value: 617.902165383539 and parameters: {'CultivarName': 'CG4141', 'init_fert': 157, 'residue': 775}. Best is trial 187 with value: 820.706242879662.\n"
     ]
    },
    {
     "name": "stdout",
     "output_type": "stream",
     "text": [
      "\n",
      "The value is: 617.902165383539\n"
     ]
    },
    {
     "name": "stderr",
     "output_type": "stream",
     "text": [
      "[I 2023-06-19 16:50:38,109] Trial 257 finished with value: 611.338412234746 and parameters: {'CultivarName': 'B_120', 'init_fert': 152, 'residue': 804}. Best is trial 187 with value: 820.706242879662.\n"
     ]
    },
    {
     "name": "stdout",
     "output_type": "stream",
     "text": [
      "\n",
      "The value is: 611.338412234746\n"
     ]
    },
    {
     "name": "stderr",
     "output_type": "stream",
     "text": [
      "[I 2023-06-19 16:50:41,113] Trial 258 finished with value: 574.893405434521 and parameters: {'CultivarName': 'Pioneer_39V43', 'init_fert': 162, 'residue': 793}. Best is trial 187 with value: 820.706242879662.\n"
     ]
    },
    {
     "name": "stdout",
     "output_type": "stream",
     "text": [
      "\n",
      "The value is: 574.893405434521\n"
     ]
    },
    {
     "name": "stderr",
     "output_type": "stream",
     "text": [
      "[I 2023-06-19 16:50:44,124] Trial 259 finished with value: 541.034547988543 and parameters: {'CultivarName': 'GH_5009', 'init_fert': 160, 'residue': 992}. Best is trial 187 with value: 820.706242879662.\n"
     ]
    },
    {
     "name": "stdout",
     "output_type": "stream",
     "text": [
      "\n",
      "The value is: 541.034547988543\n"
     ]
    },
    {
     "name": "stderr",
     "output_type": "stream",
     "text": [
      "[I 2023-06-19 16:50:47,130] Trial 260 finished with value: 819.52224154088 and parameters: {'CultivarName': 'HY_110', 'init_fert': 156, 'residue': 734}. Best is trial 187 with value: 820.706242879662.\n"
     ]
    },
    {
     "name": "stdout",
     "output_type": "stream",
     "text": [
      "\n",
      "The value is: 819.52224154088\n"
     ]
    },
    {
     "name": "stderr",
     "output_type": "stream",
     "text": [
      "[I 2023-06-19 16:50:50,206] Trial 261 finished with value: 669.356764155775 and parameters: {'CultivarName': 'A_105', 'init_fert': 155, 'residue': 497}. Best is trial 187 with value: 820.706242879662.\n"
     ]
    },
    {
     "name": "stdout",
     "output_type": "stream",
     "text": [
      "\n",
      "The value is: 669.356764155775\n"
     ]
    },
    {
     "name": "stderr",
     "output_type": "stream",
     "text": [
      "[I 2023-06-19 16:50:53,201] Trial 262 finished with value: 613.76737145606 and parameters: {'CultivarName': 'NSCM_41', 'init_fert': 147, 'residue': 673}. Best is trial 187 with value: 820.706242879662.\n"
     ]
    },
    {
     "name": "stdout",
     "output_type": "stream",
     "text": [
      "\n",
      "The value is: 613.76737145606\n"
     ]
    },
    {
     "name": "stderr",
     "output_type": "stream",
     "text": [
      "[I 2023-06-19 16:50:56,221] Trial 263 finished with value: 611.69910196219 and parameters: {'CultivarName': 'B_120', 'init_fert': 142, 'residue': 655}. Best is trial 187 with value: 820.706242879662.\n"
     ]
    },
    {
     "name": "stdout",
     "output_type": "stream",
     "text": [
      "\n",
      "The value is: 611.69910196219\n"
     ]
    },
    {
     "name": "stderr",
     "output_type": "stream",
     "text": [
      "[I 2023-06-19 16:50:59,310] Trial 264 finished with value: 611.295675903633 and parameters: {'CultivarName': 'B_120', 'init_fert': 153, 'residue': 679}. Best is trial 187 with value: 820.706242879662.\n"
     ]
    },
    {
     "name": "stdout",
     "output_type": "stream",
     "text": [
      "\n",
      "The value is: 611.295675903633\n"
     ]
    },
    {
     "name": "stderr",
     "output_type": "stream",
     "text": [
      "[I 2023-06-19 16:51:02,321] Trial 265 finished with value: 655.973927906942 and parameters: {'CultivarName': 'B_110', 'init_fert': 133, 'residue': 942}. Best is trial 187 with value: 820.706242879662.\n"
     ]
    },
    {
     "name": "stdout",
     "output_type": "stream",
     "text": [
      "\n",
      "The value is: 655.973927906942\n"
     ]
    },
    {
     "name": "stderr",
     "output_type": "stream",
     "text": [
      "[I 2023-06-19 16:51:05,320] Trial 266 finished with value: 610.908578722681 and parameters: {'CultivarName': 'B_120', 'init_fert': 164, 'residue': 702}. Best is trial 187 with value: 820.706242879662.\n"
     ]
    },
    {
     "name": "stdout",
     "output_type": "stream",
     "text": [
      "\n",
      "The value is: 610.908578722681\n"
     ]
    },
    {
     "name": "stderr",
     "output_type": "stream",
     "text": [
      "[I 2023-06-19 16:51:08,365] Trial 267 finished with value: 305.534839071442 and parameters: {'CultivarName': 'malawi_local', 'init_fert': 158, 'residue': 788}. Best is trial 187 with value: 820.706242879662.\n"
     ]
    },
    {
     "name": "stdout",
     "output_type": "stream",
     "text": [
      "\n",
      "The value is: 305.534839071442\n"
     ]
    },
    {
     "name": "stderr",
     "output_type": "stream",
     "text": [
      "[I 2023-06-19 16:51:11,401] Trial 268 finished with value: 667.298375486178 and parameters: {'CultivarName': 'B_105', 'init_fert': 151, 'residue': 760}. Best is trial 187 with value: 820.706242879662.\n"
     ]
    },
    {
     "name": "stdout",
     "output_type": "stream",
     "text": [
      "\n",
      "The value is: 667.298375486178\n"
     ]
    },
    {
     "name": "stderr",
     "output_type": "stream",
     "text": [
      "[I 2023-06-19 16:51:14,454] Trial 269 finished with value: 819.224025713391 and parameters: {'CultivarName': 'HY_110', 'init_fert': 164, 'residue': 923}. Best is trial 187 with value: 820.706242879662.\n"
     ]
    },
    {
     "name": "stdout",
     "output_type": "stream",
     "text": [
      "\n",
      "The value is: 819.224025713391\n"
     ]
    },
    {
     "name": "stderr",
     "output_type": "stream",
     "text": [
      "[I 2023-06-19 16:51:17,468] Trial 270 finished with value: 644.334430203976 and parameters: {'CultivarName': 'B_95', 'init_fert': 158, 'residue': 816}. Best is trial 187 with value: 820.706242879662.\n"
     ]
    },
    {
     "name": "stdout",
     "output_type": "stream",
     "text": [
      "\n",
      "The value is: 644.334430203976\n"
     ]
    },
    {
     "name": "stderr",
     "output_type": "stream",
     "text": [
      "[I 2023-06-19 16:51:20,525] Trial 271 finished with value: 819.234775989771 and parameters: {'CultivarName': 'HY_110', 'init_fert': 164, 'residue': 968}. Best is trial 187 with value: 820.706242879662.\n"
     ]
    },
    {
     "name": "stdout",
     "output_type": "stream",
     "text": [
      "\n",
      "The value is: 819.234775989771\n"
     ]
    },
    {
     "name": "stderr",
     "output_type": "stream",
     "text": [
      "[I 2023-06-19 16:51:23,553] Trial 272 finished with value: 642.730363213117 and parameters: {'CultivarName': 'B_115', 'init_fert': 163, 'residue': 977}. Best is trial 187 with value: 820.706242879662.\n"
     ]
    },
    {
     "name": "stdout",
     "output_type": "stream",
     "text": [
      "\n",
      "The value is: 642.730363213117\n"
     ]
    },
    {
     "name": "stderr",
     "output_type": "stream",
     "text": [
      "[I 2023-06-19 16:51:26,591] Trial 273 finished with value: 611.293253993464 and parameters: {'CultivarName': 'B_120', 'init_fert': 154, 'residue': 925}. Best is trial 187 with value: 820.706242879662.\n"
     ]
    },
    {
     "name": "stdout",
     "output_type": "stream",
     "text": [
      "\n",
      "The value is: 611.293253993464\n"
     ]
    },
    {
     "name": "stderr",
     "output_type": "stream",
     "text": [
      "[I 2023-06-19 16:51:29,613] Trial 274 finished with value: 611.536103100565 and parameters: {'CultivarName': 'B_120', 'init_fert': 148, 'residue': 970}. Best is trial 187 with value: 820.706242879662.\n"
     ]
    },
    {
     "name": "stdout",
     "output_type": "stream",
     "text": [
      "\n",
      "The value is: 611.536103100565\n"
     ]
    },
    {
     "name": "stderr",
     "output_type": "stream",
     "text": [
      "[I 2023-06-19 16:51:32,600] Trial 275 finished with value: 653.333926581591 and parameters: {'CultivarName': 'A_95', 'init_fert': 160, 'residue': 990}. Best is trial 187 with value: 820.706242879662.\n"
     ]
    },
    {
     "name": "stdout",
     "output_type": "stream",
     "text": [
      "\n",
      "The value is: 653.333926581591\n"
     ]
    },
    {
     "name": "stderr",
     "output_type": "stream",
     "text": [
      "[I 2023-06-19 16:51:35,595] Trial 276 finished with value: 660.942002213479 and parameters: {'CultivarName': 'Laila', 'init_fert': 164, 'residue': 730}. Best is trial 187 with value: 820.706242879662.\n"
     ]
    },
    {
     "name": "stdout",
     "output_type": "stream",
     "text": [
      "\n",
      "The value is: 660.942002213479\n"
     ]
    },
    {
     "name": "stderr",
     "output_type": "stream",
     "text": [
      "[I 2023-06-19 16:51:38,650] Trial 277 finished with value: 642.938737207232 and parameters: {'CultivarName': 'B_115', 'init_fert': 156, 'residue': 776}. Best is trial 187 with value: 820.706242879662.\n"
     ]
    },
    {
     "name": "stdout",
     "output_type": "stream",
     "text": [
      "\n",
      "The value is: 642.938737207232\n"
     ]
    },
    {
     "name": "stderr",
     "output_type": "stream",
     "text": [
      "[I 2023-06-19 16:51:41,667] Trial 278 finished with value: 664.926167786337 and parameters: {'CultivarName': 'Pioneer_34K77', 'init_fert': 138, 'residue': 918}. Best is trial 187 with value: 820.706242879662.\n"
     ]
    },
    {
     "name": "stdout",
     "output_type": "stream",
     "text": [
      "\n",
      "The value is: 664.926167786337\n"
     ]
    },
    {
     "name": "stderr",
     "output_type": "stream",
     "text": [
      "[I 2023-06-19 16:51:44,710] Trial 279 finished with value: 643.216187609193 and parameters: {'CultivarName': 'B_115', 'init_fert': 144, 'residue': 967}. Best is trial 187 with value: 820.706242879662.\n"
     ]
    },
    {
     "name": "stdout",
     "output_type": "stream",
     "text": [
      "\n",
      "The value is: 643.216187609193\n"
     ]
    },
    {
     "name": "stderr",
     "output_type": "stream",
     "text": [
      "[I 2023-06-19 16:51:47,711] Trial 280 finished with value: 640.461109696287 and parameters: {'CultivarName': 'Hycorn_53', 'init_fert': 161, 'residue': 942}. Best is trial 187 with value: 820.706242879662.\n"
     ]
    },
    {
     "name": "stdout",
     "output_type": "stream",
     "text": [
      "\n",
      "The value is: 640.461109696287\n"
     ]
    },
    {
     "name": "stderr",
     "output_type": "stream",
     "text": [
      "[I 2023-06-19 16:51:50,796] Trial 281 finished with value: 611.363558495713 and parameters: {'CultivarName': 'B_120', 'init_fert': 152, 'residue': 933}. Best is trial 187 with value: 820.706242879662.\n"
     ]
    },
    {
     "name": "stdout",
     "output_type": "stream",
     "text": [
      "\n",
      "The value is: 611.363558495713\n"
     ]
    },
    {
     "name": "stderr",
     "output_type": "stream",
     "text": [
      "[I 2023-06-19 16:51:53,770] Trial 282 finished with value: 628.706849326645 and parameters: {'CultivarName': 'A_90', 'init_fert': 166, 'residue': 947}. Best is trial 187 with value: 820.706242879662.\n"
     ]
    },
    {
     "name": "stdout",
     "output_type": "stream",
     "text": [
      "\n",
      "The value is: 628.706849326645\n"
     ]
    },
    {
     "name": "stderr",
     "output_type": "stream",
     "text": [
      "[I 2023-06-19 16:51:56,848] Trial 283 finished with value: 642.924196362025 and parameters: {'CultivarName': 'B_115', 'init_fert': 157, 'residue': 955}. Best is trial 187 with value: 820.706242879662.\n"
     ]
    },
    {
     "name": "stdout",
     "output_type": "stream",
     "text": [
      "\n",
      "The value is: 642.924196362025\n"
     ]
    },
    {
     "name": "stderr",
     "output_type": "stream",
     "text": [
      "[I 2023-06-19 16:51:59,897] Trial 284 finished with value: 819.220494595015 and parameters: {'CultivarName': 'HY_110', 'init_fert': 164, 'residue': 910}. Best is trial 187 with value: 820.706242879662.\n"
     ]
    },
    {
     "name": "stdout",
     "output_type": "stream",
     "text": [
      "\n",
      "The value is: 819.220494595015\n"
     ]
    },
    {
     "name": "stderr",
     "output_type": "stream",
     "text": [
      "[I 2023-06-19 16:52:02,932] Trial 285 finished with value: 641.975081836327 and parameters: {'CultivarName': 'A_108', 'init_fert': 149, 'residue': 739}. Best is trial 187 with value: 820.706242879662.\n"
     ]
    },
    {
     "name": "stdout",
     "output_type": "stream",
     "text": [
      "\n",
      "The value is: 641.975081836327\n"
     ]
    },
    {
     "name": "stderr",
     "output_type": "stream",
     "text": [
      "[I 2023-06-19 16:52:05,963] Trial 286 finished with value: 819.434605624877 and parameters: {'CultivarName': 'HY_110', 'init_fert': 159, 'residue': 905}. Best is trial 187 with value: 820.706242879662.\n"
     ]
    },
    {
     "name": "stdout",
     "output_type": "stream",
     "text": [
      "\n",
      "The value is: 819.434605624877\n"
     ]
    },
    {
     "name": "stderr",
     "output_type": "stream",
     "text": [
      "[I 2023-06-19 16:52:09,000] Trial 287 finished with value: 611.236412454156 and parameters: {'CultivarName': 'B_120', 'init_fert': 155, 'residue': 901}. Best is trial 187 with value: 820.706242879662.\n"
     ]
    },
    {
     "name": "stdout",
     "output_type": "stream",
     "text": [
      "\n",
      "The value is: 611.236412454156\n"
     ]
    },
    {
     "name": "stderr",
     "output_type": "stream",
     "text": [
      "[I 2023-06-19 16:52:12,081] Trial 288 finished with value: 642.820785473958 and parameters: {'CultivarName': 'B_115', 'init_fert': 160, 'residue': 884}. Best is trial 187 with value: 820.706242879662.\n"
     ]
    },
    {
     "name": "stdout",
     "output_type": "stream",
     "text": [
      "\n",
      "The value is: 642.820785473958\n"
     ]
    },
    {
     "name": "stderr",
     "output_type": "stream",
     "text": [
      "[I 2023-06-19 16:52:15,155] Trial 289 finished with value: 676.208435562548 and parameters: {'CultivarName': 'mh19', 'init_fert': 151, 'residue': 877}. Best is trial 187 with value: 820.706242879662.\n"
     ]
    },
    {
     "name": "stdout",
     "output_type": "stream",
     "text": [
      "\n",
      "The value is: 676.208435562548\n"
     ]
    },
    {
     "name": "stderr",
     "output_type": "stream",
     "text": [
      "[I 2023-06-19 16:52:18,206] Trial 290 finished with value: 610.988701313488 and parameters: {'CultivarName': 'B_120', 'init_fert': 162, 'residue': 919}. Best is trial 187 with value: 820.706242879662.\n"
     ]
    },
    {
     "name": "stdout",
     "output_type": "stream",
     "text": [
      "\n",
      "The value is: 610.988701313488\n"
     ]
    },
    {
     "name": "stderr",
     "output_type": "stream",
     "text": [
      "[I 2023-06-19 16:52:21,300] Trial 291 finished with value: 611.195214526223 and parameters: {'CultivarName': 'B_120', 'init_fert': 156, 'residue': 961}. Best is trial 187 with value: 820.706242879662.\n"
     ]
    },
    {
     "name": "stdout",
     "output_type": "stream",
     "text": [
      "\n",
      "The value is: 611.195214526223\n"
     ]
    },
    {
     "name": "stderr",
     "output_type": "stream",
     "text": [
      "[I 2023-06-19 16:52:24,350] Trial 292 finished with value: 610.768215028131 and parameters: {'CultivarName': 'A_130', 'init_fert': 146, 'residue': 907}. Best is trial 187 with value: 820.706242879662.\n"
     ]
    },
    {
     "name": "stdout",
     "output_type": "stream",
     "text": [
      "\n",
      "The value is: 610.768215028131\n"
     ]
    },
    {
     "name": "stderr",
     "output_type": "stream",
     "text": [
      "[I 2023-06-19 16:52:27,371] Trial 293 finished with value: 643.653005174326 and parameters: {'CultivarName': 'B_115', 'init_fert': 132, 'residue': 903}. Best is trial 187 with value: 820.706242879662.\n"
     ]
    },
    {
     "name": "stdout",
     "output_type": "stream",
     "text": [
      "\n",
      "The value is: 643.653005174326\n"
     ]
    },
    {
     "name": "stderr",
     "output_type": "stream",
     "text": [
      "[I 2023-06-19 16:52:30,400] Trial 294 finished with value: 643.302857242182 and parameters: {'CultivarName': 'B_115', 'init_fert': 141, 'residue': 824}. Best is trial 187 with value: 820.706242879662.\n"
     ]
    },
    {
     "name": "stdout",
     "output_type": "stream",
     "text": [
      "\n",
      "The value is: 643.302857242182\n"
     ]
    },
    {
     "name": "stderr",
     "output_type": "stream",
     "text": [
      "[I 2023-06-19 16:52:33,445] Trial 295 finished with value: 634.315483382203 and parameters: {'CultivarName': 'sr52', 'init_fert': 164, 'residue': 862}. Best is trial 187 with value: 820.706242879662.\n"
     ]
    },
    {
     "name": "stdout",
     "output_type": "stream",
     "text": [
      "\n",
      "The value is: 634.315483382203\n"
     ]
    },
    {
     "name": "stderr",
     "output_type": "stream",
     "text": [
      "[I 2023-06-19 16:52:36,465] Trial 296 finished with value: 684.534868856858 and parameters: {'CultivarName': 'Pioneer_38H20', 'init_fert': 158, 'residue': 930}. Best is trial 187 with value: 820.706242879662.\n"
     ]
    },
    {
     "name": "stdout",
     "output_type": "stream",
     "text": [
      "\n",
      "The value is: 684.534868856858\n"
     ]
    },
    {
     "name": "stderr",
     "output_type": "stream",
     "text": [
      "[I 2023-06-19 16:52:39,512] Trial 297 finished with value: 820.229960505935 and parameters: {'CultivarName': 'HY_110', 'init_fert': 153, 'residue': 981}. Best is trial 187 with value: 820.706242879662.\n"
     ]
    },
    {
     "name": "stdout",
     "output_type": "stream",
     "text": [
      "\n",
      "The value is: 820.229960505935\n"
     ]
    },
    {
     "name": "stderr",
     "output_type": "stream",
     "text": [
      "[I 2023-06-19 16:52:42,608] Trial 298 finished with value: 611.41398652995 and parameters: {'CultivarName': 'B_120', 'init_fert': 151, 'residue': 978}. Best is trial 187 with value: 820.706242879662.\n"
     ]
    },
    {
     "name": "stdout",
     "output_type": "stream",
     "text": [
      "\n",
      "The value is: 611.41398652995\n"
     ]
    },
    {
     "name": "stderr",
     "output_type": "stream",
     "text": [
      "[I 2023-06-19 16:52:45,635] Trial 299 finished with value: 643.114421318765 and parameters: {'CultivarName': 'B_115', 'init_fert': 147, 'residue': 994}. Best is trial 187 with value: 820.706242879662.\n"
     ]
    },
    {
     "name": "stdout",
     "output_type": "stream",
     "text": [
      "\n",
      "The value is: 643.114421318765\n"
     ]
    },
    {
     "data": {
      "text/plain": [
       "{'CultivarName': 'HY_110', 'init_fert': 148, 'residue': 664}"
      ]
     },
     "execution_count": 5,
     "metadata": {},
     "output_type": "execute_result"
    }
   ],
   "source": [
    "study = optuna.create_study(direction=\"maximize\")\n",
    "study.optimize(objective, n_trials=300)\n",
    "\n",
    "study.best_params"
   ]
  },
  {
   "cell_type": "markdown",
   "id": "13f98f48",
   "metadata": {},
   "source": [
    "# Accessing elements of APSIM simulation"
   ]
  },
  {
   "cell_type": "markdown",
   "id": "dd6e7605",
   "metadata": {},
   "source": [
    "Loading APSIM simulation file"
   ]
  },
  {
   "cell_type": "code",
   "execution_count": null,
   "id": "c34deb62",
   "metadata": {},
   "outputs": [],
   "source": [
    "with open('Maize.apsimx', 'r') as file:\n",
    "    data = json.load(file)"
   ]
  },
  {
   "cell_type": "markdown",
   "id": "16454c04",
   "metadata": {},
   "source": [
    "Prints the structure at each level: can go more or less specific to find the correct level for the variable of interest."
   ]
  },
  {
   "cell_type": "code",
   "execution_count": 9,
   "id": "ae252190",
   "metadata": {},
   "outputs": [
    {
     "data": {
      "text/plain": [
       "{'$type': 'Models.Manager, Models',\n",
       " 'Code': 'using Models.Interfaces;\\r\\nusing System.Linq;\\r\\nusing System;\\r\\nusing Models.Core;\\r\\nusing Models.PMF;\\r\\nusing Models.Soils;\\r\\nusing Models.Soils.Nutrients;\\r\\nusing Models.Utilities;\\r\\nusing APSIM.Shared.Utilities;\\r\\nusing Models.Climate;\\r\\n\\r\\nnamespace Models\\r\\n{\\r\\n    [Serializable]\\r\\n    public class Script : Model\\r\\n    {\\r\\n        [Link] private Clock Clock;\\r\\n        [Link] private Fertiliser Fertiliser;\\r\\n        [Link] private Summary Summary;\\r\\n        [Link(ByName = true)] private Plant Maize;\\r\\n        [Link] private Soil Soil;\\r\\n        private Accumulator accumulatedRain;\\r\\n        [Link]\\r\\n        private ISoilWater waterBalance;\\r\\n        \\r\\n        [Description(\"Start of sowing window (d-mmm)\")]\\r\\n        public string StartDate { get; set; }\\r\\n        [Description(\"End of sowing window (d-mmm)\")]\\r\\n        public string EndDate { get; set; }\\r\\n        [Description(\"Minimum extractable soil water for sowing (mm)\")]\\r\\n        public double MinESW { get; set; }\\r\\n        [Description(\"Accumulated rainfall required for sowing (mm)\")]\\r\\n        public double MinRain { get; set; }\\r\\n        [Description(\"Duration of rainfall accumulation (d)\")]\\r\\n        public int RainDays { get; set; }\\r\\n        [Description(\"Cultivar to be sown\")]\\r\\n        [Display(Type=DisplayType.CultivarName, PlantName = \"Maize\")]\\r\\n        public string CultivarName { get; set; }\\r\\n        [Description(\"Sowing depth (mm)\")]\\r\\n        public double SowingDepth { get; set; }\\r\\n        [Description(\"Row spacing (mm)\")]\\r\\n        public double RowSpacing { get; set; }\\r\\n        [Description(\"Plant population (/m2)\")]\\r\\n        public double Population { get; set; }\\r\\n        \\r\\n        \\r\\n        [EventSubscribe(\"StartOfSimulation\")]\\r\\n        private void OnSimulationCommencing(object sender, EventArgs e)\\r\\n        {\\r\\n            accumulatedRain = new Accumulator(this, \"[Weather].Rain\", RainDays);\\r\\n        }\\r\\n        \\r\\n\\r\\n        [EventSubscribe(\"DoManagement\")]\\r\\n        private void OnDoManagement(object sender, EventArgs e)\\r\\n        {\\r\\n            accumulatedRain.Update();\\r\\n            \\r\\n            if (DateUtilities.WithinDates(StartDate, Clock.Today, EndDate) &&\\r\\n                !Maize.IsAlive &&\\r\\n                MathUtilities.Sum(waterBalance.ESW) > MinESW &&\\r\\n                accumulatedRain.Sum > MinRain)\\r\\n            {\\r\\n                Maize.Sow(population: Population, cultivar: CultivarName, depth: SowingDepth, rowSpacing: RowSpacing);    \\r\\n            }\\r\\n        \\r\\n        }\\r\\n        \\r\\n    }\\r\\n}\\r\\n',\n",
       " 'Parameters': [{'Key': 'StartDate', 'Value': '1-nov'},\n",
       "  {'Key': 'EndDate', 'Value': '10-jan'},\n",
       "  {'Key': 'MinESW', 'Value': '100'},\n",
       "  {'Key': 'MinRain', 'Value': '25'},\n",
       "  {'Key': 'RainDays', 'Value': '7'},\n",
       "  {'Key': 'CultivarName', 'Value': 'Dekalb_XL82'},\n",
       "  {'Key': 'SowingDepth', 'Value': '30'},\n",
       "  {'Key': 'RowSpacing', 'Value': '750'},\n",
       "  {'Key': 'Population', 'Value': '6'}],\n",
       " 'Name': 'SowingRule',\n",
       " 'ResourceName': None,\n",
       " 'Children': [],\n",
       " 'Enabled': True,\n",
       " 'ReadOnly': False}"
      ]
     },
     "execution_count": 9,
     "metadata": {},
     "output_type": "execute_result"
    }
   ],
   "source": [
    "data['Children'][0]['Children'][4]['Children'][7]"
   ]
  }
 ],
 "metadata": {
  "kernelspec": {
   "display_name": "Python 3 (ipykernel)",
   "language": "python",
   "name": "python3"
  },
  "language_info": {
   "codemirror_mode": {
    "name": "ipython",
    "version": 3
   },
   "file_extension": ".py",
   "mimetype": "text/x-python",
   "name": "python",
   "nbconvert_exporter": "python",
   "pygments_lexer": "ipython3",
   "version": "3.10.9"
  }
 },
 "nbformat": 4,
 "nbformat_minor": 5
}
