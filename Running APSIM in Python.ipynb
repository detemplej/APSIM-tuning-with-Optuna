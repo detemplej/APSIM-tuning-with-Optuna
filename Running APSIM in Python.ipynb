{
 "cells": [
  {
   "cell_type": "markdown",
   "id": "e6adb134",
   "metadata": {},
   "source": [
    "# Importing packages"
   ]
  },
  {
   "cell_type": "code",
   "execution_count": 1,
   "id": "3306a87c",
   "metadata": {},
   "outputs": [],
   "source": [
    "import os\n",
    "import sys\n",
    "import fileinput\n",
    "import subprocess\n",
    "import re"
   ]
  },
  {
   "cell_type": "markdown",
   "id": "d227e3fa",
   "metadata": {},
   "source": [
    "# Checking the working directory"
   ]
  },
  {
   "cell_type": "code",
   "execution_count": 2,
   "id": "831cc9fc",
   "metadata": {},
   "outputs": [
    {
     "data": {
      "text/plain": [
       "'C:\\\\Users\\\\detemplj\\\\Downloads'"
      ]
     },
     "execution_count": 2,
     "metadata": {},
     "output_type": "execute_result"
    }
   ],
   "source": [
    "os.getcwd()"
   ]
  },
  {
   "cell_type": "markdown",
   "id": "d4c3804d",
   "metadata": {},
   "source": [
    "# Changing fertiliser amount in APSIM script"
   ]
  },
  {
   "cell_type": "markdown",
   "id": "691320fb",
   "metadata": {},
   "source": [
    "Took this code from this Stack Overflow: https://stackoverflow.com/questions/17140886/how-to-search-and-replace-text-in-a-file.\n",
    "Prep work for this included replacing the fertilizer value with \"<fertiliser>\" (to make it easy to find in the file)"
   ]
  },
  {
   "cell_type": "code",
   "execution_count": 3,
   "id": "948d9afb",
   "metadata": {},
   "outputs": [],
   "source": [
    "# Read in the file\n",
    "with open('maize_py_example.apsimx', 'r') as file :\n",
    "  filedata = file.read()\n",
    "\n",
    "# Replace the target string\n",
    "filedata = filedata.replace('<fertiliser>', '10000000')\n",
    "\n",
    "# Write the file out again\n",
    "with open('maize_py_example_edited.apsimx', 'w') as file:\n",
    "  file.write(filedata)"
   ]
  },
  {
   "cell_type": "markdown",
   "id": "2e9ec0fa",
   "metadata": {},
   "source": [
    "# Running the APSIM script in shell"
   ]
  },
  {
   "cell_type": "markdown",
   "id": "f3fdc01d",
   "metadata": {},
   "source": [
    "Using the package \"subprocess\" (imported above). Sourced from ChatGPT"
   ]
  },
  {
   "cell_type": "code",
   "execution_count": 4,
   "id": "742c6167",
   "metadata": {},
   "outputs": [
    {
     "name": "stdout",
     "output_type": "stream",
     "text": [
      "\n"
     ]
    }
   ],
   "source": [
    "list_files = subprocess.check_output([\"apsim\", \"run\", \"maize_py_example_edited.apsimx\"], shell=True)\n",
    "list_files = list_files.decode(\"utf-8\")\n",
    "#print(\"The output was:\")\n",
    "print(list_files)"
   ]
  },
  {
   "cell_type": "markdown",
   "id": "5b44ec9b",
   "metadata": {},
   "source": [
    "# Extracting .db contents with SQLite"
   ]
  },
  {
   "cell_type": "markdown",
   "id": "76416a5b",
   "metadata": {},
   "source": [
    "Sourced from ChatGPT"
   ]
  },
  {
   "cell_type": "code",
   "execution_count": 5,
   "id": "a3aaf976",
   "metadata": {},
   "outputs": [],
   "source": [
    "%load_ext sql\n",
    "%sql sqlite:///c:/Users/detemplj/Downloads/maize_py_example_edited.db"
   ]
  },
  {
   "cell_type": "markdown",
   "id": "f67290a1",
   "metadata": {},
   "source": [
    "Getting the column names"
   ]
  },
  {
   "cell_type": "code",
   "execution_count": 6,
   "id": "6f8678ed",
   "metadata": {},
   "outputs": [
    {
     "name": "stdout",
     "output_type": "stream",
     "text": [
      " * sqlite:///c:/Users/detemplj/Downloads/maize_py_example_edited.db\n",
      "Done.\n"
     ]
    },
    {
     "data": {
      "text/html": [
       "<table>\n",
       "    <thead>\n",
       "        <tr>\n",
       "            <th>cid</th>\n",
       "            <th>name</th>\n",
       "            <th>type</th>\n",
       "            <th>notnull</th>\n",
       "            <th>dflt_value</th>\n",
       "            <th>pk</th>\n",
       "        </tr>\n",
       "    </thead>\n",
       "    <tbody>\n",
       "        <tr>\n",
       "            <td>0</td>\n",
       "            <td>CheckpointID</td>\n",
       "            <td>INTEGER</td>\n",
       "            <td>0</td>\n",
       "            <td>None</td>\n",
       "            <td>0</td>\n",
       "        </tr>\n",
       "        <tr>\n",
       "            <td>1</td>\n",
       "            <td>SimulationID</td>\n",
       "            <td>INTEGER</td>\n",
       "            <td>0</td>\n",
       "            <td>None</td>\n",
       "            <td>0</td>\n",
       "        </tr>\n",
       "        <tr>\n",
       "            <td>2</td>\n",
       "            <td>Zone</td>\n",
       "            <td>TEXT</td>\n",
       "            <td>0</td>\n",
       "            <td>None</td>\n",
       "            <td>0</td>\n",
       "        </tr>\n",
       "        <tr>\n",
       "            <td>3</td>\n",
       "            <td>Clock.Today</td>\n",
       "            <td>date</td>\n",
       "            <td>0</td>\n",
       "            <td>None</td>\n",
       "            <td>0</td>\n",
       "        </tr>\n",
       "        <tr>\n",
       "            <td>4</td>\n",
       "            <td>Maize.Phenology.CurrentStageName</td>\n",
       "            <td>TEXT</td>\n",
       "            <td>0</td>\n",
       "            <td>None</td>\n",
       "            <td>0</td>\n",
       "        </tr>\n",
       "        <tr>\n",
       "            <td>5</td>\n",
       "            <td>Maize.AboveGround.Wt</td>\n",
       "            <td>REAL</td>\n",
       "            <td>0</td>\n",
       "            <td>None</td>\n",
       "            <td>0</td>\n",
       "        </tr>\n",
       "        <tr>\n",
       "            <td>6</td>\n",
       "            <td>Maize.AboveGround.N</td>\n",
       "            <td>REAL</td>\n",
       "            <td>0</td>\n",
       "            <td>None</td>\n",
       "            <td>0</td>\n",
       "        </tr>\n",
       "        <tr>\n",
       "            <td>7</td>\n",
       "            <td>Maize.Grain.Wt</td>\n",
       "            <td>REAL</td>\n",
       "            <td>0</td>\n",
       "            <td>None</td>\n",
       "            <td>0</td>\n",
       "        </tr>\n",
       "        <tr>\n",
       "            <td>8</td>\n",
       "            <td>Maize.Grain.Size</td>\n",
       "            <td>REAL</td>\n",
       "            <td>0</td>\n",
       "            <td>None</td>\n",
       "            <td>0</td>\n",
       "        </tr>\n",
       "        <tr>\n",
       "            <td>9</td>\n",
       "            <td>Maize.Grain.NumberFunction</td>\n",
       "            <td>REAL</td>\n",
       "            <td>0</td>\n",
       "            <td>None</td>\n",
       "            <td>0</td>\n",
       "        </tr>\n",
       "        <tr>\n",
       "            <td>10</td>\n",
       "            <td>Maize.Grain.N</td>\n",
       "            <td>REAL</td>\n",
       "            <td>0</td>\n",
       "            <td>None</td>\n",
       "            <td>0</td>\n",
       "        </tr>\n",
       "        <tr>\n",
       "            <td>11</td>\n",
       "            <td>Maize.Total.Wt</td>\n",
       "            <td>REAL</td>\n",
       "            <td>0</td>\n",
       "            <td>None</td>\n",
       "            <td>0</td>\n",
       "        </tr>\n",
       "        <tr>\n",
       "            <td>12</td>\n",
       "            <td>Maize.Organs.Length</td>\n",
       "            <td>INTEGER</td>\n",
       "            <td>0</td>\n",
       "            <td>None</td>\n",
       "            <td>0</td>\n",
       "        </tr>\n",
       "    </tbody>\n",
       "</table>"
      ],
      "text/plain": [
       "[(0, 'CheckpointID', 'INTEGER', 0, None, 0),\n",
       " (1, 'SimulationID', 'INTEGER', 0, None, 0),\n",
       " (2, 'Zone', 'TEXT', 0, None, 0),\n",
       " (3, 'Clock.Today', 'date', 0, None, 0),\n",
       " (4, 'Maize.Phenology.CurrentStageName', 'TEXT', 0, None, 0),\n",
       " (5, 'Maize.AboveGround.Wt', 'REAL', 0, None, 0),\n",
       " (6, 'Maize.AboveGround.N', 'REAL', 0, None, 0),\n",
       " (7, 'Maize.Grain.Wt', 'REAL', 0, None, 0),\n",
       " (8, 'Maize.Grain.Size', 'REAL', 0, None, 0),\n",
       " (9, 'Maize.Grain.NumberFunction', 'REAL', 0, None, 0),\n",
       " (10, 'Maize.Grain.N', 'REAL', 0, None, 0),\n",
       " (11, 'Maize.Total.Wt', 'REAL', 0, None, 0),\n",
       " (12, 'Maize.Organs.Length', 'INTEGER', 0, None, 0)]"
      ]
     },
     "execution_count": 6,
     "metadata": {},
     "output_type": "execute_result"
    }
   ],
   "source": [
    "%%sql\n",
    "SELECT *\n",
    "FROM PRAGMA_TABLE_INFO('Report')"
   ]
  },
  {
   "cell_type": "markdown",
   "id": "7b33a03d",
   "metadata": {},
   "source": [
    "Getting all information of the record with the highest AboveGround.Wt"
   ]
  },
  {
   "cell_type": "code",
   "execution_count": 7,
   "id": "30045bfe",
   "metadata": {},
   "outputs": [
    {
     "name": "stdout",
     "output_type": "stream",
     "text": [
      " * sqlite:///c:/Users/detemplj/Downloads/maize_py_example_edited.db\n",
      "Done.\n"
     ]
    },
    {
     "data": {
      "text/html": [
       "<table>\n",
       "    <thead>\n",
       "        <tr>\n",
       "            <th>CheckpointID</th>\n",
       "            <th>SimulationID</th>\n",
       "            <th>Zone</th>\n",
       "            <th>Clock.Today</th>\n",
       "            <th>Maize.Phenology.CurrentStageName</th>\n",
       "            <th>Maize.AboveGround.Wt</th>\n",
       "            <th>Maize.AboveGround.N</th>\n",
       "            <th>Maize.Grain.Wt</th>\n",
       "            <th>Maize.Grain.Size</th>\n",
       "            <th>Maize.Grain.NumberFunction</th>\n",
       "            <th>Maize.Grain.N</th>\n",
       "            <th>Maize.Total.Wt</th>\n",
       "            <th>Maize.Organs.Length</th>\n",
       "        </tr>\n",
       "    </thead>\n",
       "    <tbody>\n",
       "        <tr>\n",
       "            <td>1</td>\n",
       "            <td>1</td>\n",
       "            <td>Field</td>\n",
       "            <td>1995-12-31 12:00:00</td>\n",
       "            <td></td>\n",
       "            <td>666.4856588928575</td>\n",
       "            <td>6.771708666760553</td>\n",
       "            <td>34.387912974820644</td>\n",
       "            <td>0.010890954176908168</td>\n",
       "            <td>3157.4747644914823</td>\n",
       "            <td>1.7193956487410325</td>\n",
       "            <td>749.1247747249881</td>\n",
       "            <td>6</td>\n",
       "        </tr>\n",
       "    </tbody>\n",
       "</table>"
      ],
      "text/plain": [
       "[(1, 1, 'Field', '1995-12-31 12:00:00', '', 666.4856588928575, 6.771708666760553, 34.387912974820644, 0.010890954176908168, 3157.4747644914823, 1.7193956487410325, 749.1247747249881, 6)]"
      ]
     },
     "execution_count": 7,
     "metadata": {},
     "output_type": "execute_result"
    }
   ],
   "source": [
    "%%sql\n",
    "SELECT * FROM Report\n",
    "WHERE \"Maize.AboveGround.Wt\" = (SELECT MAX(\"Maize.AboveGround.Wt\") FROM Report);"
   ]
  },
  {
   "cell_type": "markdown",
   "id": "429bfe29",
   "metadata": {},
   "source": [
    "Getting just the Maize.AboveGround.Wt variable"
   ]
  },
  {
   "cell_type": "code",
   "execution_count": 8,
   "id": "42e6d709",
   "metadata": {},
   "outputs": [
    {
     "name": "stdout",
     "output_type": "stream",
     "text": [
      " * sqlite:///c:/Users/detemplj/Downloads/maize_py_example_edited.db\n",
      "Done.\n"
     ]
    },
    {
     "data": {
      "text/html": [
       "<table>\n",
       "    <thead>\n",
       "        <tr>\n",
       "            <th>Maize.AboveGround.Wt</th>\n",
       "        </tr>\n",
       "    </thead>\n",
       "    <tbody>\n",
       "        <tr>\n",
       "            <td>666.4856588928575</td>\n",
       "        </tr>\n",
       "    </tbody>\n",
       "</table>"
      ],
      "text/plain": [
       "[(666.4856588928575,)]"
      ]
     },
     "execution_count": 8,
     "metadata": {},
     "output_type": "execute_result"
    }
   ],
   "source": [
    "%%sql\n",
    "SELECT \"Maize.AboveGround.Wt\" FROM Report\n",
    "WHERE \"Maize.AboveGround.Wt\" = (SELECT MAX(\"Maize.AboveGround.Wt\") FROM Report);"
   ]
  },
  {
   "cell_type": "markdown",
   "id": "d299a111",
   "metadata": {},
   "source": [
    "Uses subprocess, re packages (imported above)\n",
    "The max number of the variable (Maize.AboveGround.Wt) is stored in \"value\" variable. Sourced from ChatGPT"
   ]
  },
  {
   "cell_type": "code",
   "execution_count": 9,
   "id": "29584ec9",
   "metadata": {},
   "outputs": [
    {
     "name": "stdout",
     "output_type": "stream",
     "text": [
      "The value is: 666.485658892858\n"
     ]
    }
   ],
   "source": [
    "output = subprocess.check_output([\"sqlite3\", \"c:/Users/detemplj/Downloads/maize_py_example_edited.db\", \"-cmd\", 'SELECT * FROM Report WHERE \"Maize.AboveGround.Wt\" = (SELECT MAX(\"Maize.AboveGround.Wt\") FROM Report);'], shell=True)\n",
    "output = output.decode(\"utf-8\")\n",
    "\n",
    "match = re.search(r'\\d+\\.\\d+', output)\n",
    "if match:\n",
    "    value = match.group()\n",
    "    print(\"The value is:\", value)\n",
    "else:\n",
    "    print(\"No value found.\")\n"
   ]
  }
 ],
 "metadata": {
  "kernelspec": {
   "display_name": "Python 3 (ipykernel)",
   "language": "python",
   "name": "python3"
  },
  "language_info": {
   "codemirror_mode": {
    "name": "ipython",
    "version": 3
   },
   "file_extension": ".py",
   "mimetype": "text/x-python",
   "name": "python",
   "nbconvert_exporter": "python",
   "pygments_lexer": "ipython3",
   "version": "3.10.9"
  }
 },
 "nbformat": 4,
 "nbformat_minor": 5
}
